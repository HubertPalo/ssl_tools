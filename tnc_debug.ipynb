{
 "cells": [
  {
   "cell_type": "markdown",
   "metadata": {},
   "source": [
    "# TNC SSL Training debug"
   ]
  },
  {
   "cell_type": "code",
   "execution_count": 1,
   "metadata": {},
   "outputs": [],
   "source": [
    "from pathlib import Path\n",
    "from typing import List, Tuple\n",
    "\n",
    "import random\n",
    "import matplotlib.pyplot as plt\n",
    "import numpy as np\n",
    "import pandas as pd\n",
    "\n",
    "import torch\n",
    "import torch.nn as nn\n",
    "import pytorch_lightning as pl\n",
    "from torch.utils.data import DataLoader, Dataset\n",
    "import plotly.graph_objects as go\n",
    "from statsmodels.tsa.stattools import adfuller\n",
    "import yaml\n",
    "import math\n",
    "import functools\n",
    "\n",
    "import sys\n",
    "if not sys.warnoptions:\n",
    "    import warnings\n",
    "    warnings.simplefilter(\"ignore\")"
   ]
  },
  {
   "cell_type": "markdown",
   "metadata": {},
   "source": [
    "Setting the random seeds so we can get the very same output as the author's code "
   ]
  },
  {
   "cell_type": "code",
   "execution_count": 2,
   "metadata": {},
   "outputs": [
    {
     "data": {
      "text/plain": [
       "<torch._C.Generator at 0x7f3d1f677390>"
      ]
     },
     "execution_count": 2,
     "metadata": {},
     "output_type": "execute_result"
    }
   ],
   "source": [
    "random.seed(1234)\n",
    "np.random.seed(1234)\n",
    "torch.manual_seed(1234)\n",
    "#torch.use_deterministic_algorithms(True)"
   ]
  },
  {
   "cell_type": "markdown",
   "metadata": {},
   "source": [
    "## Test 1: Dataset class\n",
    "We'll try to sameple the same time windows"
   ]
  },
  {
   "cell_type": "code",
   "execution_count": 3,
   "metadata": {},
   "outputs": [],
   "source": [
    "class TNCDataset(Dataset):\n",
    "    def __init__(\n",
    "        self,\n",
    "        data: np.ndarray,\n",
    "        mc_sample_size: int,\n",
    "        window_size: int,\n",
    "        state: float = None,\n",
    "        adf: bool = True,\n",
    "        augmentation: int = 1  # Simple repeat the vecvor 'augmentation' times\n",
    "    ):\n",
    "        super().__init__()\n",
    "        self.time_series = data\n",
    "        self.T = data.shape[-1]\n",
    "        self.window_size = window_size\n",
    "        self.sliding_gap = int(window_size * 25.2)\n",
    "        self.window_per_sample = (self.T - 2 * self.window_size) // self.sliding_gap\n",
    "        self.mc_sample_size = mc_sample_size\n",
    "        self.state = state\n",
    "        self.adf = adf\n",
    "        self.epsilon = None\n",
    "        self.augmentation = augmentation\n",
    "\n",
    "    def __len__(self):\n",
    "        return len(self.time_series) * self.augmentation\n",
    "\n",
    "    # @functools.cache\n",
    "    def __getitem__(self, ind):\n",
    "        ind = ind % len(self.time_series)       # To repeat augmentation\n",
    "        t = np.random.randint(2 * self.window_size, self.T - 2 * self.window_size)\n",
    "        x_t = self.time_series[ind][\n",
    "            :, t - self.window_size // 2 : t + self.window_size // 2\n",
    "        ]\n",
    "        X_close = self._find_neighours(self.time_series[ind], t)\n",
    "        X_distant = self._find_non_neighours(self.time_series[ind], t)\n",
    "\n",
    "        if self.state is None:\n",
    "            y_t = -1\n",
    "        else:\n",
    "            y_t = np.round(\n",
    "                np.mean(\n",
    "                    self.state[ind][\n",
    "                        t - self.window_size // 2 : t + self.window_size // 2\n",
    "                    ]\n",
    "                )\n",
    "            )\n",
    "        return (\n",
    "            x_t.astype(np.float32),\n",
    "            X_close.astype(np.float32),\n",
    "            X_distant.astype(np.float32),\n",
    "            y_t,\n",
    "        )\n",
    "\n",
    "    def _find_neighours(self, x, t):\n",
    "        T = self.time_series.shape[-1]\n",
    "\n",
    "        # ---- Do the ADF test ----\n",
    "        gap = self.window_size\n",
    "        corr = []\n",
    "        for w_t in range(self.window_size, 4 * self.window_size, gap):\n",
    "            try:\n",
    "                p_val = 0\n",
    "                for f in range(x.shape[-2]):\n",
    "                    p = adfuller(\n",
    "                        np.array(\n",
    "                            x[\n",
    "                                f, max(0, t - w_t) : min(x.shape[-1], t + w_t)\n",
    "                            ].reshape(\n",
    "                                -1,\n",
    "                            )\n",
    "                        )\n",
    "                    )[1]\n",
    "                    p_val += 0.01 if math.isnan(p) else p\n",
    "                corr.append(p_val / x.shape[-2])\n",
    "            except:\n",
    "                corr.append(0.6)\n",
    "        self.epsilon = (\n",
    "            len(corr)\n",
    "            if len(np.where(np.array(corr) >= 0.01)[0]) == 0\n",
    "            else (np.where(np.array(corr) >= 0.01)[0][0] + 1)\n",
    "        )\n",
    "        self.delta = 5 * self.epsilon * self.window_size\n",
    "        # --------------------------\n",
    "\n",
    "        ## Random from a Gaussian\n",
    "        t_p = [\n",
    "            int(t + np.random.randn() * self.epsilon * self.window_size)\n",
    "            for _ in range(self.mc_sample_size)\n",
    "        ]\n",
    "        t_p = [\n",
    "            max(self.window_size // 2 + 1, min(t_pp, T - self.window_size // 2))\n",
    "            for t_pp in t_p\n",
    "        ]\n",
    "        x_p = np.stack(\n",
    "            [\n",
    "                x[:, t_ind - self.window_size // 2 : t_ind + self.window_size // 2]\n",
    "                for t_ind in t_p\n",
    "            ]\n",
    "        )\n",
    "        return x_p\n",
    "\n",
    "    def _find_non_neighours(self, x, t):\n",
    "        T = self.time_series.shape[-1]\n",
    "        if t > T / 2:\n",
    "            t_n = np.random.randint(\n",
    "                self.window_size // 2,\n",
    "                max((t - self.delta + 1), self.window_size // 2 + 1),\n",
    "                self.mc_sample_size,\n",
    "            )\n",
    "        else:\n",
    "            t_n = np.random.randint(\n",
    "                min((t + self.delta), (T - self.window_size - 1)),\n",
    "                (T - self.window_size // 2),\n",
    "                self.mc_sample_size,\n",
    "            )\n",
    "        x_n = np.stack(\n",
    "            [\n",
    "                x[:, t_ind - self.window_size // 2 : t_ind + self.window_size // 2]\n",
    "                for t_ind in t_n\n",
    "            ]\n",
    "        )\n",
    "\n",
    "        if len(x_n) == 0:\n",
    "            rand_t = np.random.randint(0, self.window_size // 5)\n",
    "            if t > T / 2:\n",
    "                x_n = x[:, rand_t : rand_t + self.window_size].unsqueeze(0)\n",
    "            else:\n",
    "                x_n = x[:, T - rand_t - self.window_size : T - rand_t].unsqueeze(0)\n",
    "        return x_n"
   ]
  },
  {
   "cell_type": "code",
   "execution_count": 4,
   "metadata": {},
   "outputs": [],
   "source": [
    "# Hyperparameters\n",
    "encoding_size = 10\n",
    "window_size = 4\n",
    "augmentation = 5\n",
    "batch_size = 10\n",
    "mc_sample_size = 20\n",
    "workers = 10"
   ]
  },
  {
   "cell_type": "code",
   "execution_count": 5,
   "metadata": {},
   "outputs": [
    {
     "name": "stdout",
     "output_type": "stream",
     "text": [
      "(21, 561, 281) (21, 281) (9, 561, 288) (9, 288)\n"
     ]
    },
    {
     "data": {
      "text/plain": [
       "(80, 80)"
      ]
     },
     "execution_count": 5,
     "metadata": {},
     "output_type": "execute_result"
    }
   ],
   "source": [
    "from sklearn.model_selection import train_test_split\n",
    "\n",
    "data_path = Path('data/TNC/HAR_data')\n",
    "x_train = np.load(data_path/'x_train.npy')\n",
    "y_train = np.load(data_path/'y_train.npy')\n",
    "x_test = np.load(data_path/'x_test.npy')\n",
    "y_test = np.load(data_path/'y_test.npy')\n",
    "\n",
    "print(x_train.shape, y_train.shape, x_test.shape, y_test.shape)\n",
    "\n",
    "#X_train, X_val, y_train, y_val = train_test_split(x_train, y_train, test_size=0.2, random_state=42)\n",
    "n_train = int(0.8*len(x_train))\n",
    "\n",
    "train_dataset = TNCDataset(x_train[:n_train], mc_sample_size=20, window_size=4, augmentation=augmentation)\n",
    "validation_dataset = TNCDataset(x_train[:n_train], mc_sample_size=20, window_size=4, augmentation=augmentation)\n",
    "\n",
    "train_dataloader = DataLoader(train_dataset, batch_size=batch_size, num_workers=workers, shuffle=True)\n",
    "validation_dataloader = DataLoader(validation_dataset, batch_size=batch_size, num_workers=workers, shuffle=True)\n",
    "\n",
    "len(train_dataset), len(validation_dataset)"
   ]
  },
  {
   "cell_type": "code",
   "execution_count": 6,
   "metadata": {},
   "outputs": [
    {
     "name": "stdout",
     "output_type": "stream",
     "text": [
      "80\n",
      "(561, 4) (20, 561, 4) (20, 561, 4) -1\n",
      "x_t[0]=[0.25042    0.26520944 0.2842265  0.27390146]\n",
      "[[ 0.3125356   0.29215354  0.27738905  0.27785668]\n",
      " [-0.05184692 -0.02228442 -0.01960972 -0.01918734]\n",
      " [-0.22958235 -0.17052555 -0.08727847 -0.09040321]\n",
      " ...\n",
      " [-0.81264085 -0.8647166  -0.8859118  -0.88107115]\n",
      " [ 0.02338346  0.03818248  0.04070062  0.04155072]\n",
      " [-0.09535573 -0.06066822 -0.04298371 -0.04844802]]\n",
      "[[ 0.28725162  0.11776522  0.25119483  0.28823853]\n",
      " [-0.00342336  0.21637088 -0.04456717 -0.01830093]\n",
      " [-0.13564935  0.21102436 -0.10959529 -0.11527154]\n",
      " ...\n",
      " [-0.78148085 -0.7269532  -0.5488129  -0.553364  ]\n",
      " [ 0.2439978  -0.00132714 -0.09377017 -0.08595823]\n",
      " [-0.02253753 -0.15111849 -0.23460884 -0.23706494]]\n",
      "-1\n"
     ]
    }
   ],
   "source": [
    "x_t, X_close, X_distant, y_t = train_dataset[29]\n",
    "\n",
    "print(len(train_dataset)) \n",
    "print(x_t.shape, X_close.shape, X_distant.shape, y_t)\n",
    "print(f'x_t[0]={x_t[0]}')\n",
    "print(X_close[0])\n",
    "print(X_distant[0])\n",
    "print(y_t)\n",
    "#x_t[0]=0.2724721"
   ]
  },
  {
   "cell_type": "markdown",
   "metadata": {},
   "source": [
    "## Part 2: Testing model architecture\n",
    "\n",
    "Next goal is to feed each model with an array of 1s and check if the encoder's and the discriminator's outputs are the same as the author's."
   ]
  },
  {
   "cell_type": "code",
   "execution_count": 17,
   "metadata": {},
   "outputs": [],
   "source": [
    "class Discriminator(torch.nn.Module):\n",
    "    def __init__(self, input_size, device: str = \"cpu\"):\n",
    "        super(Discriminator, self).__init__()\n",
    "        self.input_size = input_size\n",
    "\n",
    "        self.model = torch.nn.Sequential(\n",
    "            torch.nn.Linear(2 * self.input_size, 4 * self.input_size),\n",
    "            torch.nn.ReLU(inplace=True),\n",
    "            torch.nn.Dropout(0.5),\n",
    "            torch.nn.Linear(4 * self.input_size, 1),\n",
    "        ).to(device)\n",
    "\n",
    "        # torch.nn.init.xavier_uniform_(self.model[0].weight)\n",
    "        # torch.nn.init.xavier_uniform_(self.model[3].weight)\n",
    "\n",
    "    def forward(self, x, x_tild):\n",
    "        \"\"\"\n",
    "        Predict the probability of the two inputs belonging to the same neighbourhood.\n",
    "        \"\"\"\n",
    "        x_all = torch.cat([x, x_tild], -1)\n",
    "        p = self.model(x_all)\n",
    "        return p.view((-1,))"
   ]
  },
  {
   "cell_type": "code",
   "execution_count": 18,
   "metadata": {},
   "outputs": [],
   "source": [
    "class GRUEncoder(torch.nn.Module):\n",
    "    def __init__(\n",
    "        self,\n",
    "        hidden_size: int = 100,\n",
    "        in_channel: int = 561,\n",
    "        encoding_size: int = 10,\n",
    "        num_layers: int = 1,\n",
    "        dropout: float = 0.0,\n",
    "        bidirectional: bool = True,\n",
    "        device: str = \"cpu\",\n",
    "    ):\n",
    "        super().__init__()\n",
    "        self.hidden_size = hidden_size\n",
    "        self.in_channel = in_channel\n",
    "        self.num_layers = num_layers\n",
    "        self.encoding_size = encoding_size\n",
    "        self.bidirectional = bidirectional\n",
    "        self.device = device\n",
    "        \n",
    "        self.nn = torch.nn.Sequential(\n",
    "            torch.nn.Linear(self.hidden_size*(int(self.bidirectional) + 1), self.encoding_size)\n",
    "        ).to(self.device)\n",
    "        \n",
    "        self.rnn = torch.nn.GRU(\n",
    "            input_size=self.in_channel,\n",
    "            hidden_size=self.hidden_size,\n",
    "            num_layers=num_layers,\n",
    "            batch_first=False,\n",
    "            dropout=dropout,\n",
    "            bidirectional=bidirectional,\n",
    "        ).to(device)\n",
    "\n",
    "    def forward(self, x):\n",
    "        x = x.permute(2, 0, 1) #(batch_size, user, window_size)\n",
    "\n",
    "        past = torch.zeros(\n",
    "            self.num_layers * (int(self.bidirectional) + 1),\n",
    "            x.shape[1],\n",
    "            self.hidden_size,\n",
    "            device=self.device,\n",
    "        )\n",
    "\n",
    "        out, _ = self.rnn(x, past)  # out shape = [seq_len, batch_size, num_directions*hidden_size]\n",
    "        encodings = self.nn(out[-1].squeeze(0))\n",
    "        with open('out_jupyter.yaml', 'w') as f:\n",
    "            yaml.dump(out.detach().cpu().numpy().tolist(), f)\n",
    "            \n",
    "        with open('encodings_jupyter.yaml', 'w') as f:\n",
    "            yaml.dump(encodings.detach().cpu().numpy().tolist(), f)\n",
    "        return encodings"
   ]
  },
  {
   "cell_type": "code",
   "execution_count": 24,
   "metadata": {},
   "outputs": [
    {
     "data": {
      "text/plain": [
       "<All keys matched successfully>"
      ]
     },
     "execution_count": 24,
     "metadata": {},
     "output_type": "execute_result"
    }
   ],
   "source": [
    "# creating models instances\n",
    "discriminator = Discriminator(input_size=encoding_size, device='cuda')\n",
    "discriminator.load_state_dict(torch.load('./weights/disc_weights.pt'))\n",
    "encoder = GRUEncoder(encoding_size=encoding_size, device='cuda')\n",
    "checkpoint = torch.load('./ckpt_har/checkpoint_0.pth.tar')\n",
    "#print(checkpoint['encoder_state_dict'])\n",
    "encoder.load_state_dict(checkpoint['encoder_state_dict'])"
   ]
  },
  {
   "cell_type": "code",
   "execution_count": 26,
   "metadata": {},
   "outputs": [
    {
     "name": "stdout",
     "output_type": "stream",
     "text": [
      "z_t=tensor([ 0.3483,  0.0633, -0.0792, -0.4992, -0.8666,  0.2112, -1.3599, -0.8159,\n",
      "         0.9400,  0.2088], device='cuda:0', grad_fn=<SelectBackward0>)\n",
      "z_p=tensor([ 0.3483,  0.0633, -0.0792, -0.4992, -0.8666,  0.2112, -1.3599, -0.8159,\n",
      "         0.9400,  0.2088], device='cuda:0', grad_fn=<SelectBackward0>)\n",
      "z_n=tensor([ 0.3483,  0.0633, -0.0792, -0.4992, -0.8666,  0.2112, -1.3599, -0.8159,\n",
      "         0.9400,  0.2088], device='cuda:0', grad_fn=<SelectBackward0>)\n",
      "d_p=-0.15153206884860992\n",
      "d_n=-0.14392100274562836\n"
     ]
    }
   ],
   "source": [
    "# checking untrained output for a single batch\n",
    "# TENTAR MONTAR UMA ENTRADA PADRÃO\n",
    "#x_t, x_p, x_n, _ = next(iter(train_dataloader))\n",
    "device='cuda'\n",
    "mc_sample = 20\n",
    "batch_size, f_size, len_size = (10, 561, 4)\n",
    "x_t = torch.ones(torch.Size([10, 561, 4]))\n",
    "x_p = torch.ones(torch.Size([10, 20, 561, 4]))\n",
    "x_n = torch.ones(torch.Size([10, 20, 561, 4]))\n",
    "x_p = x_p.reshape((-1, f_size, len_size))\n",
    "x_n = x_n.reshape((-1, f_size, len_size))\n",
    "x_t = np.repeat(x_t, mc_sample, axis=0)\n",
    "x_t, x_p, x_n = x_t.to(device), x_p.to(device), x_n.to(device)\n",
    "\n",
    "z_t = encoder(x_t.to(device='cuda'))\n",
    "z_p = encoder(x_p.to(device='cuda'))\n",
    "z_n = encoder(x_n.to(device='cuda'))\n",
    "\n",
    "dp_dummy = torch.ones(z_p.shape, device='cuda')\n",
    "dn_dummy = torch.ones(z_n.shape, device='cuda')\n",
    "dt_dummy = torch.ones(z_t.shape, device='cuda')\n",
    "\n",
    "d_p = discriminator(dt_dummy, dp_dummy)\n",
    "d_n = discriminator(dt_dummy, dn_dummy)\n",
    "\n",
    "print(f'z_t={z_t[0]}')\n",
    "print(f'z_p={z_p[0]}')\n",
    "print(f'z_n={z_n[0]}')\n",
    "print(f'd_p={d_p[0]}')\n",
    "print(f'd_n={d_n[0]}')"
   ]
  },
  {
   "cell_type": "code",
   "execution_count": 27,
   "metadata": {},
   "outputs": [
    {
     "name": "stdout",
     "output_type": "stream",
     "text": [
      "tensor(0.6947, device='cuda:0', grad_fn=<DivBackward0>)\n"
     ]
    }
   ],
   "source": [
    "# comparing losses\n",
    "w = 0.05\n",
    "loss_fn = torch.nn.BCEWithLogitsLoss()\n",
    "neighbors = torch.ones((len(x_p))).to('cuda')\n",
    "non_neighbors = torch.zeros((len(x_n))).to('cuda')\n",
    "\n",
    "p_loss = loss_fn(d_p, neighbors)\n",
    "n_loss = loss_fn(d_n, non_neighbors)\n",
    "n_loss_u = loss_fn(d_n, neighbors)\n",
    "loss = (p_loss + w*n_loss_u + (1-w)*n_loss)/2\n",
    "\n",
    "print(loss)"
   ]
  },
  {
   "cell_type": "code",
   "execution_count": 25,
   "metadata": {},
   "outputs": [
    {
     "name": "stdout",
     "output_type": "stream",
     "text": [
      "OrderedDict([('model.0.weight', tensor([[ 3.5324e-02,  8.8791e-02,  1.3919e-01, -6.0138e-02, -2.4341e-02,\n",
      "         -1.7753e-01,  8.5222e-02,  1.8496e-01,  1.7689e-01,  3.0121e-02,\n",
      "          1.0923e-01,  1.9140e-01, -9.5379e-02,  9.9869e-02,  7.1432e-02,\n",
      "         -1.3445e-01, -1.8060e-01, -1.1918e-01, -6.7960e-02, -1.0374e-01],\n",
      "        [-1.7809e-01,  8.1421e-04,  5.7657e-02,  1.9202e-01, -3.5919e-03,\n",
      "         -1.9985e-01,  2.1701e-01,  1.1247e-01, -1.3425e-01, -1.3720e-01,\n",
      "         -2.0809e-01, -8.8676e-02,  1.8977e-01, -8.1354e-02, -1.5813e-01,\n",
      "          2.2205e-01,  2.6198e-02, -2.1920e-02,  1.2036e-01, -1.3019e-01],\n",
      "        [ 3.2219e-02, -5.4258e-02,  2.1573e-02, -1.2166e-01, -3.0175e-02,\n",
      "         -5.0496e-02,  1.4165e-01, -3.8301e-02,  2.1762e-01,  3.3953e-02,\n",
      "         -1.2315e-01,  1.4320e-01,  8.7130e-03, -4.7996e-02,  1.9766e-01,\n",
      "         -1.9842e-01,  5.8972e-02, -1.5090e-01,  3.2478e-02,  1.2987e-01],\n",
      "        [-1.1042e-01, -1.8737e-01, -9.2159e-03, -1.2945e-01, -2.1505e-01,\n",
      "          3.3803e-02, -2.2259e-01,  1.8018e-02, -1.8190e-03,  9.2548e-03,\n",
      "         -5.1100e-02, -1.1890e-01,  1.3846e-01, -2.1605e-01, -5.1399e-02,\n",
      "          8.0875e-02,  1.5152e-01,  1.4818e-01, -1.5766e-01,  1.7898e-01],\n",
      "        [-5.8223e-02,  1.7232e-01, -1.9151e-01,  3.6833e-02, -1.3453e-01,\n",
      "         -1.0225e-01,  9.2882e-02, -3.1300e-02,  3.2621e-02, -1.6026e-01,\n",
      "          2.1803e-01, -3.8810e-02, -2.1925e-02,  1.5476e-01,  7.3162e-02,\n",
      "         -9.5182e-02,  1.1338e-01, -2.1502e-01,  1.6215e-01,  9.6066e-02],\n",
      "        [-1.5152e-01,  7.9749e-02, -4.3954e-02, -1.1190e-01,  1.6269e-01,\n",
      "          1.9892e-01, -1.5991e-01,  1.1572e-01, -1.9739e-01, -1.6712e-01,\n",
      "          2.0180e-01, -2.0280e-02,  8.4396e-02, -1.5724e-01,  2.0851e-01,\n",
      "         -7.4155e-02,  2.0691e-01,  1.3884e-01, -4.2253e-02, -1.9599e-01],\n",
      "        [-1.4549e-01, -9.3162e-03,  1.8352e-01, -1.8125e-01, -9.5152e-02,\n",
      "          5.1784e-02, -1.2287e-01,  2.3952e-02,  2.2163e-01, -2.0433e-02,\n",
      "         -3.3164e-02, -4.6583e-02,  3.8212e-02, -2.1757e-02, -4.8293e-02,\n",
      "          2.2299e-02, -1.2859e-01, -2.0609e-01,  8.9618e-02, -6.2614e-02],\n",
      "        [-1.3162e-01,  5.6664e-02,  1.3613e-01,  6.2454e-02, -1.6239e-01,\n",
      "          1.8647e-01,  1.7915e-01, -1.2659e-01,  8.5583e-02,  5.4763e-02,\n",
      "          2.2791e-02,  2.2197e-01, -6.7900e-02, -6.5919e-02,  1.0058e-01,\n",
      "          1.6902e-01,  1.6571e-01, -8.0531e-02,  1.9059e-01,  2.2862e-02],\n",
      "        [-1.9912e-01,  1.7723e-01, -1.2430e-01, -1.6624e-01, -1.3940e-01,\n",
      "         -1.4894e-02,  2.7874e-02, -1.6061e-01,  3.6100e-02,  5.0019e-02,\n",
      "         -1.8138e-01, -1.2839e-02,  9.5992e-02,  1.2996e-01, -2.2125e-02,\n",
      "          2.1628e-01,  8.1780e-02,  2.1689e-02, -8.2407e-02, -7.4117e-02],\n",
      "        [ 2.1645e-02,  1.3161e-01, -1.6842e-01,  1.4103e-01, -5.1139e-02,\n",
      "          1.4340e-01, -2.5711e-02,  1.6910e-01,  1.5234e-01,  1.7391e-01,\n",
      "         -8.1724e-02,  5.7044e-02, -2.0385e-01, -8.9221e-02,  1.1946e-02,\n",
      "          1.9252e-01,  1.1057e-01,  2.1163e-01,  9.2872e-02, -1.9842e-02],\n",
      "        [ 1.4674e-01,  2.1709e-01, -1.0092e-01,  1.3586e-02,  1.8307e-01,\n",
      "          1.1013e-01, -6.8087e-02, -7.0113e-02, -9.6010e-02, -1.9959e-01,\n",
      "          2.1720e-01, -1.3431e-01, -2.0459e-01,  1.8728e-01, -2.6287e-02,\n",
      "          1.0704e-01, -2.7149e-02, -4.9498e-02,  1.5410e-01,  1.6791e-01],\n",
      "        [ 1.7863e-01,  8.6145e-02, -6.9156e-02, -2.1083e-01,  1.7753e-01,\n",
      "          4.1883e-02, -1.4760e-01, -1.0735e-03, -1.7955e-01, -1.5892e-02,\n",
      "         -2.2056e-01,  8.4804e-02,  1.8653e-01,  1.0647e-01,  1.7008e-01,\n",
      "         -3.2780e-02, -8.5532e-02, -6.2487e-02, -1.1922e-01,  1.5558e-01],\n",
      "        [ 1.6226e-01, -3.9120e-02, -1.2626e-01,  4.7709e-02, -1.5331e-01,\n",
      "          2.0364e-01,  3.8544e-03, -4.8391e-02,  1.0372e-01,  1.2124e-01,\n",
      "          1.5861e-01, -1.2950e-01, -1.7925e-01,  1.1847e-01,  5.3540e-02,\n",
      "          3.8740e-02, -1.1378e-01, -2.1930e-02, -1.3689e-01, -8.5209e-02],\n",
      "        [-2.1108e-01,  1.6062e-01, -1.0139e-01,  4.1280e-02, -2.0757e-01,\n",
      "          1.4835e-02, -5.9148e-02, -3.1287e-02,  1.1664e-01,  1.3514e-02,\n",
      "         -1.6719e-01,  1.6788e-01, -1.4105e-01, -1.4041e-01,  7.4721e-02,\n",
      "          1.2626e-01, -7.5693e-02,  2.9044e-02, -9.1844e-02,  1.2576e-01],\n",
      "        [ 1.6726e-01,  1.8355e-01, -7.8654e-02, -2.1017e-01, -1.3719e-01,\n",
      "         -1.1098e-01, -1.1974e-01, -5.1730e-02, -1.2306e-01,  3.9859e-02,\n",
      "         -6.4521e-02,  2.1364e-01,  8.4946e-02, -7.5177e-02, -7.9248e-02,\n",
      "          7.5903e-02,  2.1048e-02,  3.7634e-02, -1.7339e-01, -6.5073e-02],\n",
      "        [ 2.0364e-01, -5.3939e-02,  8.3875e-02,  1.7307e-03, -9.9889e-02,\n",
      "         -1.2041e-01,  2.1446e-01, -9.9888e-02, -1.9742e-01,  1.9805e-01,\n",
      "         -1.5301e-01, -1.5058e-01, -1.0335e-02, -6.8232e-02, -1.5341e-01,\n",
      "         -1.8483e-01,  2.4075e-03,  1.7256e-01,  1.0035e-01, -1.2874e-01],\n",
      "        [ 7.0257e-02, -1.5740e-01, -2.1989e-01,  2.0758e-01,  7.3564e-02,\n",
      "         -1.1982e-01,  1.8871e-02,  1.2632e-01, -2.5348e-02, -1.8333e-01,\n",
      "          1.6744e-01,  1.7151e-01, -1.1820e-01,  8.7817e-02,  3.9762e-02,\n",
      "          2.1253e-01,  1.8788e-01, -2.2248e-01, -2.1783e-01, -5.1886e-02],\n",
      "        [ 1.9603e-01,  1.8547e-01, -3.2484e-02,  7.2763e-02, -1.1907e-01,\n",
      "         -1.6806e-01, -2.7969e-02,  1.5847e-01, -3.6641e-02,  1.8059e-01,\n",
      "          1.5408e-01,  1.2595e-01, -9.4635e-02, -6.3542e-02, -8.2841e-02,\n",
      "          8.1529e-02,  5.2509e-02,  6.2125e-02, -5.4366e-02, -5.3091e-02],\n",
      "        [ 6.5108e-02,  2.0197e-01,  9.3798e-02, -1.0557e-01, -1.7160e-01,\n",
      "         -1.7678e-01, -1.4458e-01, -9.0700e-02,  6.5831e-02,  1.9800e-01,\n",
      "         -4.5683e-02,  9.7050e-02, -1.5586e-01, -1.6443e-01, -1.4676e-02,\n",
      "         -8.9806e-02,  3.8585e-02,  7.8803e-02, -7.3335e-02, -1.0754e-01],\n",
      "        [-2.0870e-01, -3.6681e-02,  1.5754e-01, -1.7881e-01, -5.7611e-02,\n",
      "         -8.2041e-03, -2.1434e-01, -1.4755e-01,  1.5315e-01, -1.1068e-01,\n",
      "          2.0211e-01,  1.7934e-01, -1.8108e-02, -1.1930e-01,  2.0341e-01,\n",
      "         -1.9887e-01,  1.8471e-01,  1.6527e-01, -1.4181e-01,  9.8439e-02],\n",
      "        [ 2.0555e-01, -1.6483e-01, -1.7572e-01,  1.3121e-01,  4.3259e-02,\n",
      "          1.2750e-01, -1.5613e-01,  1.9955e-01, -2.1705e-01, -1.9211e-01,\n",
      "          1.9602e-01, -8.0488e-02,  2.9329e-02,  1.5243e-01, -1.1676e-01,\n",
      "         -7.2849e-02,  8.2321e-02, -8.6360e-02, -4.5236e-02,  1.2337e-01],\n",
      "        [-1.0407e-02, -1.4893e-01,  1.0269e-02,  1.7868e-01,  1.4080e-01,\n",
      "         -1.1082e-01,  1.8423e-01, -2.0951e-01,  3.1290e-02, -5.0208e-02,\n",
      "          1.9277e-02,  1.0839e-01,  1.2866e-01, -1.5970e-01, -9.2962e-02,\n",
      "         -9.8653e-02, -2.3378e-02,  2.1371e-01,  1.8658e-01,  1.4869e-01],\n",
      "        [ 2.2321e-01,  2.1078e-02,  4.1451e-02, -1.3913e-01, -1.0870e-01,\n",
      "          7.4886e-02, -1.8579e-02,  2.0115e-02, -3.9244e-02, -1.6217e-01,\n",
      "         -1.6593e-01,  2.0624e-01,  6.3188e-02, -4.2360e-02, -1.1572e-01,\n",
      "         -9.5768e-02, -1.0621e-01,  5.0130e-02,  2.1443e-01, -1.5159e-02],\n",
      "        [-3.7124e-03,  9.6768e-02,  1.3231e-01,  1.8421e-01, -1.7923e-01,\n",
      "          1.3889e-01, -8.3662e-02, -2.1701e-01,  1.7579e-01, -1.7653e-01,\n",
      "         -1.7896e-01,  1.4583e-01,  2.0109e-01,  5.0509e-02,  7.0553e-02,\n",
      "          6.5466e-02, -1.8613e-01, -2.0595e-02, -5.2177e-03, -1.0666e-01],\n",
      "        [ 1.6972e-01,  2.1198e-01,  1.7177e-01, -9.9692e-02, -1.6752e-01,\n",
      "          9.1979e-02, -1.6510e-01, -1.7757e-01, -1.5105e-01, -1.7162e-01,\n",
      "          1.1947e-02, -1.4304e-01, -6.0327e-02, -1.1374e-01,  4.6868e-02,\n",
      "          5.0501e-02, -3.7618e-02,  2.1947e-01, -5.6074e-02, -1.9576e-02],\n",
      "        [ 1.4070e-01, -5.4278e-02, -2.0844e-01, -1.5953e-01,  1.1609e-01,\n",
      "         -8.7493e-02,  1.5429e-01, -1.8851e-01, -1.4830e-01,  6.0655e-02,\n",
      "          8.6483e-02,  1.5280e-01, -1.6315e-01,  4.1153e-02, -1.4169e-01,\n",
      "          1.9824e-01, -6.2552e-02, -1.9068e-01, -7.0334e-02,  1.4433e-02],\n",
      "        [-1.2797e-01, -9.2363e-02,  8.0453e-02,  1.4107e-01, -2.0992e-01,\n",
      "         -5.1425e-02, -1.0070e-01, -1.4479e-01, -1.8457e-01,  8.6565e-02,\n",
      "          1.4442e-01,  9.9569e-02, -2.0165e-01, -2.3902e-02, -4.7689e-02,\n",
      "         -1.3804e-02,  1.6208e-01, -1.8896e-01, -7.6615e-02, -1.0046e-01],\n",
      "        [-2.1607e-04, -1.1873e-01,  1.8668e-01, -1.6947e-01,  2.8260e-02,\n",
      "         -2.1315e-01,  9.5360e-03, -1.0664e-01, -8.6059e-02, -1.4501e-01,\n",
      "         -9.3696e-04,  6.7652e-02,  5.0624e-02,  1.0417e-01,  4.6678e-02,\n",
      "          1.5698e-01,  1.9288e-01,  7.0116e-02, -1.0587e-01,  1.9634e-01],\n",
      "        [ 1.1952e-01, -8.3552e-03,  1.0117e-01,  2.0238e-01,  1.2010e-01,\n",
      "         -1.2286e-01,  1.9532e-01,  2.2240e-01, -9.9612e-02, -6.5861e-02,\n",
      "          1.0183e-01, -1.8576e-01, -1.9150e-01, -6.3606e-02,  1.0922e-02,\n",
      "         -1.0372e-01,  1.9445e-01, -5.8179e-02,  1.7596e-01,  1.0229e-01],\n",
      "        [-1.6595e-01,  5.5913e-03, -7.8482e-02, -1.3529e-01,  1.7136e-01,\n",
      "          1.1946e-01,  7.0380e-02,  3.3008e-02, -1.9665e-01,  4.7942e-02,\n",
      "         -1.8904e-02, -1.9749e-01, -1.2670e-01, -7.8309e-02, -8.2917e-02,\n",
      "          1.2516e-01, -4.5909e-02,  8.6671e-02, -1.8763e-01, -1.6891e-01],\n",
      "        [ 9.4791e-02, -2.0424e-01, -1.9963e-01,  1.1727e-01,  1.1635e-01,\n",
      "          1.8349e-01,  1.5300e-01, -9.7819e-02, -1.2632e-01,  1.7922e-02,\n",
      "          1.7443e-01, -1.3876e-01,  1.9367e-01, -1.6197e-01,  1.9337e-01,\n",
      "          7.1453e-02,  2.0425e-01,  1.7758e-01,  1.1276e-01,  5.3534e-02],\n",
      "        [ 4.4749e-02,  6.4402e-02, -9.8387e-02,  1.3068e-01,  1.0989e-01,\n",
      "         -1.0835e-01,  6.0934e-02, -1.2240e-02,  2.1962e-01,  1.9073e-01,\n",
      "         -8.7667e-02,  1.1616e-01,  2.8962e-02,  7.6674e-02,  2.0874e-01,\n",
      "         -1.4317e-01,  2.0401e-01,  1.8260e-01,  8.6481e-02, -1.1984e-01],\n",
      "        [-8.1233e-02,  2.0719e-01, -7.5644e-02, -2.0097e-02,  3.6690e-02,\n",
      "         -8.3092e-02, -4.7568e-02, -1.5658e-01, -9.5336e-02,  7.6985e-02,\n",
      "          1.3626e-01,  1.7448e-01, -1.9449e-01,  1.7816e-01, -1.4950e-01,\n",
      "          6.8995e-02,  1.6998e-01, -5.8196e-02, -1.9151e-01,  1.5162e-01],\n",
      "        [-1.7537e-01, -8.7958e-02, -9.0353e-02,  1.4775e-01,  1.9023e-01,\n",
      "         -1.9386e-02,  2.1606e-01,  1.6826e-01, -1.7243e-01, -1.7234e-01,\n",
      "          1.8547e-01, -2.1733e-01,  1.6781e-01, -9.8765e-02,  1.8499e-01,\n",
      "          1.0979e-01,  1.1226e-01, -1.4811e-01,  2.0901e-02, -1.0086e-01],\n",
      "        [-1.1724e-01,  7.6401e-02,  1.9881e-01,  5.9248e-02,  1.9403e-01,\n",
      "          2.1849e-02,  1.8403e-01, -1.5835e-01,  4.3373e-02,  1.7396e-01,\n",
      "          2.0203e-01,  5.7275e-02,  5.3916e-02, -8.9889e-02, -8.3137e-02,\n",
      "         -1.9510e-01, -1.6501e-01, -1.1544e-01, -3.2528e-04,  4.8013e-02],\n",
      "        [-6.9215e-02,  1.1497e-01,  4.7318e-02, -1.2552e-01, -7.7367e-02,\n",
      "         -1.7196e-01,  1.1911e-01,  2.1362e-01, -1.9071e-01,  9.6898e-02,\n",
      "          1.3866e-01,  1.3348e-01,  1.6092e-03, -2.1647e-01,  5.4775e-02,\n",
      "          1.1602e-01, -1.3334e-02,  1.2030e-01, -6.3068e-02,  3.7881e-03],\n",
      "        [ 8.4640e-02,  1.7972e-01,  4.0892e-03,  7.8993e-02, -1.1209e-01,\n",
      "          9.1105e-02,  7.2088e-02,  5.1156e-02, -2.0412e-01,  1.5665e-01,\n",
      "          1.3294e-01, -5.0310e-02, -1.3974e-01, -6.5552e-02,  7.0897e-02,\n",
      "         -5.2238e-02,  1.5730e-01,  2.1676e-01, -1.2135e-01,  1.6179e-01],\n",
      "        [ 1.0484e-01, -1.5515e-01,  3.3202e-02,  1.0256e-01, -1.9846e-01,\n",
      "         -2.3924e-02,  2.1563e-01, -6.2689e-02, -1.8111e-01,  1.2470e-01,\n",
      "          3.1315e-02, -2.0252e-01,  1.8361e-02, -9.2210e-02, -2.0140e-01,\n",
      "          1.2850e-01,  2.1407e-01, -9.9245e-02,  1.4583e-01,  1.1364e-01],\n",
      "        [ 6.0710e-02,  2.1361e-01,  7.3774e-02, -2.1854e-01, -1.6176e-01,\n",
      "          1.3862e-01, -1.6025e-01,  2.1001e-01,  1.3406e-01, -8.4829e-02,\n",
      "          8.9146e-02, -2.0801e-01,  3.0684e-02, -3.7456e-02,  7.4809e-02,\n",
      "         -2.1470e-01,  6.8192e-02, -1.0674e-01,  4.4412e-02, -8.9616e-02],\n",
      "        [ 1.7540e-01, -2.1573e-01,  1.5976e-01,  1.8828e-01,  1.7211e-02,\n",
      "         -8.5591e-02,  5.1489e-02, -8.3714e-02, -6.4950e-02, -1.0074e-01,\n",
      "         -9.6829e-02, -1.6712e-02,  9.1685e-02,  2.0547e-01,  1.7941e-01,\n",
      "          1.4727e-01, -9.9206e-04, -2.0055e-01,  1.3230e-01, -1.9891e-01]],\n",
      "       device='cuda:0')), ('model.0.bias', tensor([ 0.1468, -0.1253,  0.1347, -0.0549,  0.1766,  0.0597,  0.1996,  0.0409,\n",
      "        -0.1715, -0.0534, -0.1616, -0.1004, -0.1501,  0.0542,  0.0312, -0.0114,\n",
      "        -0.1841, -0.1794, -0.0314, -0.0053,  0.0152, -0.0476, -0.1617, -0.1673,\n",
      "         0.1392, -0.1221,  0.1733, -0.0895, -0.2048, -0.0211, -0.1772,  0.0309,\n",
      "        -0.1067,  0.1287, -0.1611,  0.1008,  0.0256,  0.1444, -0.1777, -0.1331],\n",
      "       device='cuda:0')), ('model.3.weight', tensor([[ 0.0111, -0.1204,  0.0567, -0.0488,  0.0463, -0.1114,  0.0618,  0.0254,\n",
      "          0.0388,  0.0493,  0.0244, -0.0069, -0.1337, -0.0885,  0.1263,  0.0642,\n",
      "          0.1265,  0.1438,  0.0416, -0.0650,  0.0479,  0.0638,  0.0610,  0.1439,\n",
      "         -0.1043, -0.1030,  0.1057, -0.0345,  0.1174, -0.1376, -0.1234, -0.0861,\n",
      "          0.0605, -0.1282, -0.0258,  0.1426, -0.0429,  0.0544,  0.0252,  0.0758]],\n",
      "       device='cuda:0')), ('model.3.bias', tensor([0.1208], device='cuda:0'))])\n"
     ]
    }
   ],
   "source": [
    "print(discriminator.state_dict())"
   ]
  },
  {
   "cell_type": "code",
   "execution_count": 12,
   "metadata": {},
   "outputs": [
    {
     "name": "stdout",
     "output_type": "stream",
     "text": [
      "tensor([[ 0.3483,  0.0633, -0.0792,  ..., -0.8159,  0.9400,  0.2088],\n",
      "        [ 0.3483,  0.0633, -0.0792,  ..., -0.8159,  0.9400,  0.2088],\n",
      "        [ 0.3483,  0.0633, -0.0792,  ..., -0.8159,  0.9400,  0.2088],\n",
      "        ...,\n",
      "        [ 0.3483,  0.0633, -0.0792,  ..., -0.8159,  0.9400,  0.2088],\n",
      "        [ 0.3483,  0.0633, -0.0792,  ..., -0.8159,  0.9400,  0.2088],\n",
      "        [ 0.3483,  0.0633, -0.0792,  ..., -0.8159,  0.9400,  0.2088]],\n",
      "       device='cuda:0', grad_fn=<AddmmBackward0>)\n"
     ]
    }
   ],
   "source": [
    "print(z_t)"
   ]
  },
  {
   "cell_type": "markdown",
   "metadata": {},
   "source": [
    "## Test 3: Training\n",
    "\n",
    "We'll analyse the training metrics along the training and check if they do match the author's."
   ]
  },
  {
   "cell_type": "code",
   "execution_count": 9,
   "metadata": {},
   "outputs": [],
   "source": [
    "class TNC(pl.LightningModule):\n",
    "    def __init__(\n",
    "        self,\n",
    "        encoder: torch.nn.Module,\n",
    "        discriminator: torch.nn.Module,\n",
    "        mc_sample_size: int = 20,\n",
    "        window_size: int = 4,\n",
    "        w: float = 0.05,\n",
    "        lr: float = 1e-3,\n",
    "        weight_decay: float = 1e-5,\n",
    "    ):\n",
    "        super().__init__()\n",
    "        self.encoder = encoder.to(self.device)\n",
    "        self.discriminator = discriminator.to(self.device)\n",
    "        self.mc_sample_size = mc_sample_size\n",
    "        self.window_size = window_size\n",
    "        self.w = w\n",
    "        self.learning_rate = lr\n",
    "        self.weight_decay = weight_decay\n",
    "        self.loss_func = torch.nn.BCEWithLogitsLoss()\n",
    "        self.training_step_losses = []\n",
    "        self.train_epoch_loss = []\n",
    "\n",
    "    def training_step(self, batch, batch_idx):\n",
    "        x_t, x_p, x_n, _ = batch\n",
    "        print(type(x_t))\n",
    "        print(type(x_p))\n",
    "        print(type(x_n))\n",
    "        mc_sample = x_p.shape[1]\n",
    "        batch_size, f_size, len_size = x_t.shape\n",
    "        x_p = x_p.view(-1, f_size, len_size)\n",
    "        x_n = x_n.view(-1, f_size, len_size)\n",
    "        x_t = x_t.repeat(mc_sample, 1, 1)\n",
    "        neighbors = torch.ones(len(x_p)).to(self.device)\n",
    "        non_neighbors = torch.zeros(len(x_n)).to(self.device)\n",
    "        x_t, x_p, x_n = x_t.to(self.device), x_p.to(self.device), x_n.to(self.device)\n",
    "\n",
    "        z_t = self.encoder(x_t)\n",
    "        z_p = self.encoder(x_p)\n",
    "        z_n = self.encoder(x_n)\n",
    "\n",
    "        d_p = self.discriminator(z_t, z_p)\n",
    "        d_n = self.discriminator(z_t, z_n)\n",
    "\n",
    "        p_loss = self.loss_func(d_p, neighbors)\n",
    "        n_loss = self.loss_func(d_n, non_neighbors)\n",
    "        n_loss_u = self.loss_func(d_n, neighbors)\n",
    "        loss = (p_loss + self.w * n_loss_u + (1 - self.w) * n_loss) / 2\n",
    "\n",
    "        self.training_step_losses.append(loss)\n",
    "        return loss\n",
    "    \n",
    "    def on_train_epoch_end(self) -> None:\n",
    "        # do something with all training_step outputs, for example:\n",
    "        epoch_mean = torch.stack(self.training_step_losses).mean()\n",
    "        self.train_epoch_loss.append(epoch_mean.cpu().detach().numpy())\n",
    "        self.log(\"train_loss\", epoch_mean, on_epoch=True, on_step=False, prog_bar=True, logger=True)\n",
    "        # free up the memory\n",
    "        self.training_step_losses.clear()\n",
    "        \n",
    "    def validation_step(self, batch, batch_idx):\n",
    "        x_t, x_p, x_n, _ = batch\n",
    "        mc_sample = x_p.shape[1]\n",
    "        batch_size, f_size, len_size = x_t.shape\n",
    "        x_p = x_p.view(-1, f_size, len_size)\n",
    "        x_n = x_n.view(-1, f_size, len_size)\n",
    "        x_t = x_t.repeat(mc_sample, 1, 1)\n",
    "        neighbors = torch.ones(len(x_p)).to(self.device)\n",
    "        non_neighbors = torch.zeros(len(x_n)).to(self.device)\n",
    "        x_t, x_p, x_n = x_t.to(self.device), x_p.to(self.device), x_n.to(self.device)\n",
    "\n",
    "        z_t = self.encoder(x_t)\n",
    "        z_p = self.encoder(x_p)\n",
    "        z_n = self.encoder(x_n)\n",
    "\n",
    "        d_p = self.discriminator(z_t, z_p)\n",
    "        d_n = self.discriminator(z_t, z_n)\n",
    "\n",
    "        p_loss = self.loss_func(d_p, neighbors)\n",
    "        n_loss = self.loss_func(d_n, non_neighbors)\n",
    "        n_loss_u = self.loss_func(d_n, neighbors)\n",
    "        loss = (p_loss + self.w * n_loss_u + (1 - self.w) * n_loss) / 2\n",
    "\n",
    "        self.training_step_losses.append(loss)\n",
    "        return loss\n",
    "        \n",
    "    def on_validation_epoch_end(self) -> None:\n",
    "        # do something with all training_step outputs, for example:\n",
    "        epoch_mean = torch.stack(self.validation_step_losses).mean()\n",
    "        self.val_epoch_loss.append(epoch_mean.cpu().detach().numpy())\n",
    "        self.log(\"val_loss\", epoch_mean, on_epoch=True, on_step=False, prog_bar=True, logger=True)\n",
    "        # free up the memory\n",
    "        self.validation_step_losses.clear()\n",
    "\n",
    "    def configure_optimizers(self):\n",
    "        learnable_parameters = list(self.discriminator.parameters()) + list(\n",
    "            self.encoder.parameters()\n",
    "        )\n",
    "\n",
    "        optimizer = torch.optim.Adam(\n",
    "            learnable_parameters, lr=self.learning_rate, weight_decay=self.weight_decay\n",
    "        )\n",
    "        return optimizer\n",
    "    \n",
    "class EncoderPlotMetrics(pl.Callback):\n",
    "    def on_fit_end(self, trainer, pl_module):\n",
    "        #train_acc = pl_module.train_acc.compute()\n",
    "        #val_acc = pl_module.val_acc.compute()\n",
    "        train_loss = pl_module.train_epoch_loss\n",
    "        \n",
    "        # plotting train and val loss\n",
    "        plt.figure(figsize=(6, 4))\n",
    "        plt.plot(train_loss, label='train_loss')\n",
    "        plt.legend()\n",
    "        plt.title('Train Loss for the TNC training')\n",
    "        plt.savefig('./plots/tnc_encoder_loss.png')"
   ]
  },
  {
   "cell_type": "code",
   "execution_count": 2,
   "metadata": {},
   "outputs": [
    {
     "ename": "NameError",
     "evalue": "name 'TNC' is not defined",
     "output_type": "error",
     "traceback": [
      "\u001b[0;31m---------------------------------------------------------------------------\u001b[0m",
      "\u001b[0;31mNameError\u001b[0m                                 Traceback (most recent call last)",
      "\u001b[1;32m/workspaces/vini/ssl_tools/tnc_debug.ipynb Cell 15\u001b[0m line \u001b[0;36m2\n\u001b[1;32m      <a href='vscode-notebook-cell://dev-container%2B7b22686f737450617468223a222f686f6d652f76696e69636975732e616e6472656f7373692f76696e69222c226c6f63616c446f636b6572223a66616c73652c2273657474696e6773223a7b22686f7374223a227373683a2f2f7265636f642d646c2d3238227d2c22636f6e66696746696c65223a7b22246d6964223a312c2270617468223a222f686f6d652f76696e69636975732e616e6472656f7373692f76696e692f2e646576636f6e7461696e65722f646576636f6e7461696e65722e6a736f6e222c22736368656d65223a227673636f64652d66696c65486f7374227d7d/workspaces/vini/ssl_tools/tnc_debug.ipynb#X16sdnNjb2RlLXJlbW90ZQ%3D%3D?line=0'>1</a>\u001b[0m \u001b[39m# Declaring the module and the trainers\u001b[39;00m\n\u001b[0;32m----> <a href='vscode-notebook-cell://dev-container%2B7b22686f737450617468223a222f686f6d652f76696e69636975732e616e6472656f7373692f76696e69222c226c6f63616c446f636b6572223a66616c73652c2273657474696e6773223a7b22686f7374223a227373683a2f2f7265636f642d646c2d3238227d2c22636f6e66696746696c65223a7b22246d6964223a312c2270617468223a222f686f6d652f76696e69636975732e616e6472656f7373692f76696e692f2e646576636f6e7461696e65722f646576636f6e7461696e65722e6a736f6e222c22736368656d65223a227673636f64652d66696c65486f7374227d7d/workspaces/vini/ssl_tools/tnc_debug.ipynb#X16sdnNjb2RlLXJlbW90ZQ%3D%3D?line=1'>2</a>\u001b[0m tnc_model \u001b[39m=\u001b[39m TNC(\n\u001b[1;32m      <a href='vscode-notebook-cell://dev-container%2B7b22686f737450617468223a222f686f6d652f76696e69636975732e616e6472656f7373692f76696e69222c226c6f63616c446f636b6572223a66616c73652c2273657474696e6773223a7b22686f7374223a227373683a2f2f7265636f642d646c2d3238227d2c22636f6e66696746696c65223a7b22246d6964223a312c2270617468223a222f686f6d652f76696e69636975732e616e6472656f7373692f76696e692f2e646576636f6e7461696e65722f646576636f6e7461696e65722e6a736f6e222c22736368656d65223a227673636f64652d66696c65486f7374227d7d/workspaces/vini/ssl_tools/tnc_debug.ipynb#X16sdnNjb2RlLXJlbW90ZQ%3D%3D?line=2'>3</a>\u001b[0m     encoder\u001b[39m=\u001b[39mencoder,\n\u001b[1;32m      <a href='vscode-notebook-cell://dev-container%2B7b22686f737450617468223a222f686f6d652f76696e69636975732e616e6472656f7373692f76696e69222c226c6f63616c446f636b6572223a66616c73652c2273657474696e6773223a7b22686f7374223a227373683a2f2f7265636f642d646c2d3238227d2c22636f6e66696746696c65223a7b22246d6964223a312c2270617468223a222f686f6d652f76696e69636975732e616e6472656f7373692f76696e692f2e646576636f6e7461696e65722f646576636f6e7461696e65722e6a736f6e222c22736368656d65223a227673636f64652d66696c65486f7374227d7d/workspaces/vini/ssl_tools/tnc_debug.ipynb#X16sdnNjb2RlLXJlbW90ZQ%3D%3D?line=3'>4</a>\u001b[0m     discriminator\u001b[39m=\u001b[39mdiscriminator,\n\u001b[1;32m      <a href='vscode-notebook-cell://dev-container%2B7b22686f737450617468223a222f686f6d652f76696e69636975732e616e6472656f7373692f76696e69222c226c6f63616c446f636b6572223a66616c73652c2273657474696e6773223a7b22686f7374223a227373683a2f2f7265636f642d646c2d3238227d2c22636f6e66696746696c65223a7b22246d6964223a312c2270617468223a222f686f6d652f76696e69636975732e616e6472656f7373692f76696e692f2e646576636f6e7461696e65722f646576636f6e7461696e65722e6a736f6e222c22736368656d65223a227673636f64652d66696c65486f7374227d7d/workspaces/vini/ssl_tools/tnc_debug.ipynb#X16sdnNjb2RlLXJlbW90ZQ%3D%3D?line=4'>5</a>\u001b[0m     window_size\u001b[39m=\u001b[39mwindow_size,\n\u001b[1;32m      <a href='vscode-notebook-cell://dev-container%2B7b22686f737450617468223a222f686f6d652f76696e69636975732e616e6472656f7373692f76696e69222c226c6f63616c446f636b6572223a66616c73652c2273657474696e6773223a7b22686f7374223a227373683a2f2f7265636f642d646c2d3238227d2c22636f6e66696746696c65223a7b22246d6964223a312c2270617468223a222f686f6d652f76696e69636975732e616e6472656f7373692f76696e692f2e646576636f6e7461696e65722f646576636f6e7461696e65722e6a736f6e222c22736368656d65223a227673636f64652d66696c65486f7374227d7d/workspaces/vini/ssl_tools/tnc_debug.ipynb#X16sdnNjb2RlLXJlbW90ZQ%3D%3D?line=5'>6</a>\u001b[0m     mc_sample_size\u001b[39m=\u001b[39mmc_sample_size,\n\u001b[1;32m      <a href='vscode-notebook-cell://dev-container%2B7b22686f737450617468223a222f686f6d652f76696e69636975732e616e6472656f7373692f76696e69222c226c6f63616c446f636b6572223a66616c73652c2273657474696e6773223a7b22686f7374223a227373683a2f2f7265636f642d646c2d3238227d2c22636f6e66696746696c65223a7b22246d6964223a312c2270617468223a222f686f6d652f76696e69636975732e616e6472656f7373692f76696e692f2e646576636f6e7461696e65722f646576636f6e7461696e65722e6a736f6e222c22736368656d65223a227673636f64652d66696c65486f7374227d7d/workspaces/vini/ssl_tools/tnc_debug.ipynb#X16sdnNjb2RlLXJlbW90ZQ%3D%3D?line=6'>7</a>\u001b[0m )\n",
      "\u001b[0;31mNameError\u001b[0m: name 'TNC' is not defined"
     ]
    }
   ],
   "source": [
    "# Declaring the module and the trainers\n",
    "tnc_model = TNC(\n",
    "    encoder=encoder,\n",
    "    discriminator=discriminator,\n",
    "    window_size=window_size,\n",
    "    mc_sample_size=mc_sample_size,\n",
    ")\n",
    "trainer = pl.Trainer(max_epochs=150, callbacks=EncoderPlotMetrics(), accelerator=\"gpu\", devices=1)"
   ]
  },
  {
   "cell_type": "code",
   "execution_count": 11,
   "metadata": {},
   "outputs": [
    {
     "name": "stderr",
     "output_type": "stream",
     "text": [
      "GPU available: True (cuda), used: True\n",
      "TPU available: False, using: 0 TPU cores\n",
      "IPU available: False, using: 0 IPUs\n",
      "HPU available: False, using: 0 HPUs\n",
      "You are using a CUDA device ('NVIDIA A100 80GB PCIe') that has Tensor Cores. To properly utilize them, you should set `torch.set_float32_matmul_precision('medium' | 'high')` which will trade-off precision for performance. For more details, read https://pytorch.org/docs/stable/generated/torch.set_float32_matmul_precision.html#torch.set_float32_matmul_precision\n",
      "LOCAL_RANK: 0 - CUDA_VISIBLE_DEVICES: [0,1,2,3,4,5,6,7]\n",
      "\n",
      "  | Name          | Type              | Params\n",
      "----------------------------------------------------\n",
      "0 | encoder       | GRUEncoder        | 399 K \n",
      "1 | discriminator | Discriminator     | 881   \n",
      "2 | loss_func     | BCEWithLogitsLoss | 0     \n",
      "----------------------------------------------------\n",
      "400 K     Trainable params\n",
      "0         Non-trainable params\n",
      "400 K     Total params\n",
      "1.603     Total estimated model params size (MB)\n"
     ]
    },
    {
     "name": "stdout",
     "output_type": "stream",
     "text": [
      "Training: 0it [00:00, ?it/s]"
     ]
    },
    {
     "name": "stdout",
     "output_type": "stream",
     "text": [
      "Epoch 149: 100%|██████████| 8/8 [00:52<00:00,  6.51s/it, v_num=80, train_loss=0.692]"
     ]
    },
    {
     "name": "stderr",
     "output_type": "stream",
     "text": [
      "`Trainer.fit` stopped: `max_epochs=150` reached.\n"
     ]
    },
    {
     "name": "stdout",
     "output_type": "stream",
     "text": [
      "Epoch 149: 100%|██████████| 8/8 [00:54<00:00,  6.80s/it, v_num=80, train_loss=0.692]\n"
     ]
    },
    {
     "data": {
      "image/png": "[encoded data removed]",
      "text/plain": [
       "<Figure size 600x400 with 1 Axes>"
      ]
     },
     "metadata": {},
     "output_type": "display_data"
    }
   ],
   "source": [
    "# Start training\n",
    "trainer.fit(tnc_model, train_dataloader, validation_dataloader)\n",
    "#torch.save(tnc_model.encoder.state_dict(), \"./weights/tnc_encoder.pt\")"
   ]
  },
  {
   "cell_type": "code",
   "execution_count": null,
   "metadata": {},
   "outputs": [
    {
     "data": {
      "text/plain": [
       "<All keys matched successfully>"
      ]
     },
     "execution_count": 16,
     "metadata": {},
     "output_type": "execute_result"
    }
   ],
   "source": [
    "# # Checking if there are weights saved from previous training, else it trains from scratch\n",
    "# try:\n",
    "#     torch.load_state_dict(torch.load('./weights/tnc_encoder.pt'))\n",
    "# except:\n",
    "#     trainer = pl.Trainer(max_epochs=150, callbacks=EncoderPrintMetrics(), accelerator=\"gpu\", devices=1)\n",
    "#     trainer.fit(tnc_model, train_dataloader, validation_dataloader)\n",
    "#     torch.save(tnc_model.encoder.state_dict(), \"./weights/tnc_encoder.pt\")\n",
    "encoder.load_state_dict(torch.load('./weights/tnc_encoder.pt'))"
   ]
  },
  {
   "cell_type": "markdown",
   "metadata": {},
   "source": [
    "# TNC Fine-tunning\n",
    "\n",
    "We are going to use the TNC model on the downstream task of classification. We will use same dataset and re-use the same encoder"
   ]
  },
  {
   "cell_type": "code",
   "execution_count": 17,
   "metadata": {},
   "outputs": [],
   "source": [
    "from typing import Any, Optional\n",
    "\n",
    "from torchmetrics.functional import accuracy\n",
    "\n",
    "\n",
    "class StateClassifier(torch.nn.Module):\n",
    "    def __init__(self, input_size: int = 10, n_classes: int = 6):\n",
    "        super(StateClassifier, self).__init__()\n",
    "        self.input_size = input_size\n",
    "        self.n_classes = n_classes\n",
    "        self.normalize = torch.nn.BatchNorm1d(self.input_size)\n",
    "        self.nn = torch.nn.Linear(self.input_size, self.n_classes)\n",
    "        torch.nn.init.xavier_uniform_(self.nn.weight)\n",
    "\n",
    "    def forward(self, x):\n",
    "        x = self.normalize(x)\n",
    "        logits = self.nn(x)\n",
    "        return logits\n",
    "    \n",
    "class TNC_Classifier(pl.LightningModule):\n",
    "    def __init__(\n",
    "        self,\n",
    "        encoder: torch.nn.Module,\n",
    "        classifier: torch.nn.Module,\n",
    "        lr: float = 1e-1,\n",
    "        weight_decay: float = 0.0,\n",
    "        task_class: str = \"multiclass\",\n",
    "        num_classes: int = 6\n",
    "    ):\n",
    "        super().__init__()\n",
    "        self.encoder = encoder.to(self.device)\n",
    "        self.classifier = classifier.to(self.device)\n",
    "        self.learning_rate = lr\n",
    "        self.weight_decay = weight_decay\n",
    "        self.training_step_losses = []\n",
    "        self.validation_step_losses = []\n",
    "        self.loss_function = torch.nn.CrossEntropyLoss()\n",
    "        self.task_class = task_class\n",
    "        self.num_classes = num_classes\n",
    "        \n",
    "        self.train_epoch_loss = []\n",
    "        self.train_epoch_acc = []\n",
    "        self.val_epoch_loss = []\n",
    "        self.val_epoch_acc = []\n",
    "        \n",
    "    def configure_optimizers(self) -> Any:\n",
    "        optimizer = torch.optim.Adam(\n",
    "            self.classifier.parameters(), lr=self.learning_rate, weight_decay=self.weight_decay\n",
    "        )\n",
    "        return optimizer\n",
    "    \n",
    "    def forward(self, x):\n",
    "        encodings = self.encoder(x)\n",
    "        predictions = self.classifier(encodings)\n",
    "        return predictions\n",
    "    \n",
    "    def training_step(self, batch, batch_idx):\n",
    "        x, y = batch\n",
    "        predictions = self.forward(x)\n",
    "        loss = self.loss_function(predictions, y.long())\n",
    "        self.training_step_losses.append(loss)\n",
    "        return loss\n",
    "    \n",
    "    def on_train_epoch_end(self) -> None:\n",
    "        # do something with all training_step outputs, for example:\n",
    "        epoch_mean = torch.stack(self.training_step_losses).mean()\n",
    "        self.train_epoch_loss.append(epoch_mean.cpu().detach().numpy())\n",
    "        self.log(\"train_loss\", epoch_mean, on_epoch=True, on_step=False, prog_bar=True, logger=True)\n",
    "        # free up the memory\n",
    "        self.training_step_losses.clear()\n",
    "    \n",
    "    def validation_step(self, batch, batch_idx):\n",
    "        loss, acc = self._shared_eval_step(batch, batch_idx)\n",
    "        self.validation_step_losses.append(loss)\n",
    "        metrics = {\"val_acc\": acc, \"val_loss\": loss}\n",
    "        self.log_dict(metrics)\n",
    "        return metrics\n",
    "    \n",
    "    def test_step(self, batch, batch_idx):\n",
    "        loss, acc = self._shared_eval_step(batch, batch_idx)\n",
    "        metrics = {\"test_acc\": acc, \"test_loss\": loss}\n",
    "        self.log_dict(metrics)\n",
    "        return metrics\n",
    "        \n",
    "    def on_validation_epoch_end(self) -> None:\n",
    "        # do something with all training_step outputs, for example:\n",
    "        epoch_mean = torch.stack(self.validation_step_losses).mean()\n",
    "        self.val_epoch_loss.append(epoch_mean.cpu().detach().numpy())\n",
    "        self.log(\"val_loss\", epoch_mean, on_epoch=True, on_step=False, prog_bar=True, logger=True)\n",
    "        # free up the memory\n",
    "        self.validation_step_losses.clear()\n",
    "\n",
    "    def _shared_eval_step(self, batch, batch_idx):\n",
    "        x, y = batch\n",
    "        predictions = self.forward(x)\n",
    "        loss = self.loss_function(predictions, y.long())\n",
    "        acc = accuracy(torch.argmax(predictions, dim=1), y.long(), task=self.task_class, num_classes=self.num_classes)\n",
    "        return loss, acc\n",
    "    \n",
    "class ClassifierPrintMetrics(pl.Callback):\n",
    "    def on_fit_end(self, trainer, pl_module):\n",
    "        #train_acc = pl_module.train_acc.compute()\n",
    "        #val_acc = pl_module.val_acc.compute()\n",
    "        train_loss = pl_module.train_epoch_loss\n",
    "        print(train_loss)\n",
    "        val_loss = pl_module.val_epoch_loss\n",
    "        \n",
    "        print(f\"\\ntrain_loss={train_loss}, val_loss={val_loss}\")\n",
    "        \n",
    "        # plotting train and val loss\n",
    "        plt.figure(figsize=(6, 4))\n",
    "        plt.plot(train_loss, label='train_loss')\n",
    "        plt.plot(val_loss, label='val_loss')\n",
    "        plt.legend()\n",
    "        plt.title('Train and Validation Loss')\n",
    "        plt.savefig('./plots/tnc_classifier_loss.png')\n",
    "        \n",
    "        # # plotting train and val acc\n",
    "        # plt.figure(figsize=(12, 8))\n",
    "        # plt.plot(train_loss, label='train_loss')\n",
    "        # plt.plot(val_loss, label='val_loss')\n",
    "        # plt.legend()\n",
    "        # plt.title('Train and Validation Loss')\n",
    "        # plt.savefig('./plots/tnc_classifier_loss.png')\n"
   ]
  },
  {
   "cell_type": "code",
   "execution_count": 18,
   "metadata": {},
   "outputs": [
    {
     "data": {
      "text/plain": [
       "((21, 561, 281), (21, 281), (9, 561, 288), (9, 288))"
      ]
     },
     "execution_count": 18,
     "metadata": {},
     "output_type": "execute_result"
    }
   ],
   "source": [
    "data_path = Path('data/TNC/HAR_data')\n",
    "x_train = np.load(data_path/'x_train.npy')\n",
    "y_train = np.load(data_path/'y_train.npy')\n",
    "x_test = np.load(data_path/'x_test.npy')\n",
    "y_test = np.load(data_path/'y_test.npy')\n",
    "\n",
    "x_train.shape, y_train.shape, x_test.shape, y_test.shape"
   ]
  },
  {
   "cell_type": "code",
   "execution_count": 19,
   "metadata": {},
   "outputs": [],
   "source": [
    "class SimpleDataset:\n",
    "    def __init__(self, X, y=None):\n",
    "        self.X = X\n",
    "        self.y = y\n",
    "        \n",
    "    def __len__(self):\n",
    "        return len(self.X)\n",
    "    \n",
    "    def __getitem__(self, idx):\n",
    "        if self.y is not None:\n",
    "            return self.X[idx].astype(np.float32), self.y[idx].astype(np.float32)\n",
    "        else:\n",
    "            return self.X[idx].astype(np.float32)\n",
    "        \n",
    "# train_dataset = SimpleDataset(x_train)\n",
    "# test_dataset = SimpleDataset(x_test, y_test)\n",
    "# len(train_dataset), len(test_dataset)"
   ]
  },
  {
   "cell_type": "code",
   "execution_count": 28,
   "metadata": {},
   "outputs": [
    {
     "name": "stdout",
     "output_type": "stream",
     "text": [
      "dataset sizes: train=1120, test=648, valid=350\n"
     ]
    }
   ],
   "source": [
    "\n",
    "# This code as taken from the authors\n",
    "\n",
    "def create_simulated_dataset(\n",
    "    X_train, Y_train, X_test, Y_test, window_size=50, batch_size=100\n",
    "):\n",
    "    n_train = int(0.8 * len(X_train))\n",
    "    n_valid = len(X_train) - n_train\n",
    "    n_test = len(X_test)\n",
    "    x_train, y_train = X_train[:n_train], Y_train[:n_train]\n",
    "    x_valid, y_valid = X_train[n_train:], Y_train[n_train:]\n",
    "    x_test, y_test = X_test, Y_test\n",
    "\n",
    "    datasets = []\n",
    "    for x, y, size in [\n",
    "        (x_train, y_train, n_train),\n",
    "        (x_test, y_test, n_test),\n",
    "        (x_valid, y_valid, n_valid),\n",
    "    ]:\n",
    "        T = x.shape[-1]\n",
    "        windows = np.split(\n",
    "            x[:, :, : window_size * (T // window_size)], (T // window_size), -1\n",
    "        )\n",
    "        windows = np.concatenate(windows, 0)\n",
    "        labels = np.split(\n",
    "            y[:, : window_size * (T // window_size)], (T // window_size), -1\n",
    "        )\n",
    "        labels = np.round(np.mean(np.concatenate(labels, 0), -1))\n",
    "        dset = SimpleDataset(windows, labels)\n",
    "        datasets.append(dset)\n",
    "\n",
    "    trainset, testset, validset = datasets[0], datasets[1], datasets[2]\n",
    "    print(f'dataset sizes: train={len(trainset)}, test={len(testset)}, valid={len(validset)}')\n",
    "    train_loader = DataLoader(trainset, batch_size=batch_size, shuffle=True)\n",
    "    valid_loader = DataLoader(validset, batch_size=batch_size, shuffle=True)\n",
    "    test_loader = DataLoader(testset, batch_size=batch_size, shuffle=True)\n",
    "\n",
    "    return train_loader, valid_loader, test_loader\n",
    "\n",
    "train_loader, valid_loader, test_loader = create_simulated_dataset(x_train, y_train, x_test, y_test, window_size=4, batch_size=100)"
   ]
  },
  {
   "cell_type": "code",
   "execution_count": 33,
   "metadata": {},
   "outputs": [],
   "source": [
    "encoding_size = 10\n",
    "n_classes = 6\n",
    "\n",
    "classifier = StateClassifier(input_size=encoding_size, n_classes=n_classes)\n",
    "tnc_classifier = TNC_Classifier(encoder, classifier, lr=1e-3)\n"
   ]
  },
  {
   "cell_type": "code",
   "execution_count": 38,
   "metadata": {},
   "outputs": [
    {
     "name": "stderr",
     "output_type": "stream",
     "text": [
      "GPU available: True (cuda), used: True\n",
      "TPU available: False, using: 0 TPU cores\n",
      "IPU available: False, using: 0 IPUs\n",
      "HPU available: False, using: 0 HPUs\n"
     ]
    }
   ],
   "source": [
    "trainer = pl.Trainer(max_epochs=600, callbacks=ClassifierPrintMetrics(), accelerator=\"gpu\", devices=1)"
   ]
  },
  {
   "cell_type": "code",
   "execution_count": 39,
   "metadata": {},
   "outputs": [
    {
     "name": "stderr",
     "output_type": "stream",
     "text": [
      "LOCAL_RANK: 0 - CUDA_VISIBLE_DEVICES: [0,1,2,3,4,5,6,7]\n",
      "\n",
      "  | Name          | Type             | Params\n",
      "---------------------------------------------------\n",
      "0 | encoder       | GRUEncoder       | 399 K \n",
      "1 | classifier    | StateClassifier  | 86    \n",
      "2 | loss_function | CrossEntropyLoss | 0     \n",
      "---------------------------------------------------\n",
      "399 K     Trainable params\n",
      "0         Non-trainable params\n",
      "399 K     Total params\n",
      "1.600     Total estimated model params size (MB)\n"
     ]
    },
    {
     "name": "stdout",
     "output_type": "stream",
     "text": [
      "                                                                            "
     ]
    },
    {
     "name": "stdout",
     "output_type": "stream",
     "text": [
      "Epoch 599: 100%|██████████| 12/12 [00:00<00:00, 51.03it/s, v_num=75, val_loss=0.606, train_loss=0.603] "
     ]
    },
    {
     "name": "stderr",
     "output_type": "stream",
     "text": [
      "`Trainer.fit` stopped: `max_epochs=600` reached.\n"
     ]
    },
    {
     "name": "stdout",
     "output_type": "stream",
     "text": [
      "Epoch 599: 100%|██████████| 12/12 [00:00<00:00, 37.95it/s, v_num=75, val_loss=0.606, train_loss=0.603]\n",
      "[array(3.2661128, dtype=float32), array(3.0740037, dtype=float32), array(2.8792846, dtype=float32), array(2.7739315, dtype=float32), array(2.6075363, dtype=float32), array(2.4817343, dtype=float32), array(2.3600135, dtype=float32), array(2.2685199, dtype=float32), array(2.1313348, dtype=float32), array(2.05411, dtype=float32), array(1.984911, dtype=float32), array(1.9155624, dtype=float32), array(1.8355849, dtype=float32), array(1.7949457, dtype=float32), array(1.7369465, dtype=float32), array(1.6856607, dtype=float32), array(1.6491947, dtype=float32), array(1.5940784, dtype=float32), array(1.5570643, dtype=float32), array(1.5279994, dtype=float32), array(1.5147474, dtype=float32), array(1.4676083, dtype=float32), array(1.4413714, dtype=float32), array(1.4133549, dtype=float32), array(1.397723, dtype=float32), array(1.3606266, dtype=float32), array(1.3526111, dtype=float32), array(1.3350389, dtype=float32), array(1.3065838, dtype=float32), array(1.2897913, dtype=float32), array(1.2700784, dtype=float32), array(1.2726729, dtype=float32), array(1.2314214, dtype=float32), array(1.2286158, dtype=float32), array(1.2191228, dtype=float32), array(1.2028192, dtype=float32), array(1.1950616, dtype=float32), array(1.1723096, dtype=float32), array(1.161921, dtype=float32), array(1.165972, dtype=float32), array(1.1502761, dtype=float32), array(1.140341, dtype=float32), array(1.1260319, dtype=float32), array(1.1169839, dtype=float32), array(1.1071358, dtype=float32), array(1.1090097, dtype=float32), array(1.0778955, dtype=float32), array(1.0846027, dtype=float32), array(1.070933, dtype=float32), array(1.0707291, dtype=float32), array(1.0561469, dtype=float32), array(1.0529916, dtype=float32), array(1.0483403, dtype=float32), array(1.0292671, dtype=float32), array(1.0403818, dtype=float32), array(1.022871, dtype=float32), array(1.0290829, dtype=float32), array(1.0213115, dtype=float32), array(1.0070233, dtype=float32), array(1.0065401, dtype=float32), array(1.001304, dtype=float32), array(0.98791313, dtype=float32), array(0.99923503, dtype=float32), array(0.9726474, dtype=float32), array(0.98500466, dtype=float32), array(0.9619843, dtype=float32), array(0.9536195, dtype=float32), array(0.9815825, dtype=float32), array(0.9465084, dtype=float32), array(0.95539224, dtype=float32), array(0.95305574, dtype=float32), array(0.941226, dtype=float32), array(0.94442, dtype=float32), array(0.94468826, dtype=float32), array(0.9317038, dtype=float32), array(0.91466403, dtype=float32), array(0.9129974, dtype=float32), array(0.9169754, dtype=float32), array(0.98328274, dtype=float32), array(0.9256387, dtype=float32), array(0.8887472, dtype=float32), array(0.914612, dtype=float32), array(0.9064208, dtype=float32), array(0.9137702, dtype=float32), array(0.9002547, dtype=float32), array(0.8950388, dtype=float32), array(0.8962685, dtype=float32), array(0.87724626, dtype=float32), array(0.8834981, dtype=float32), array(0.8783412, dtype=float32), array(0.8927506, dtype=float32), array(0.86063826, dtype=float32), array(0.8593019, dtype=float32), array(0.8658845, dtype=float32), array(0.8788661, dtype=float32), array(0.8517596, dtype=float32), array(0.8472284, dtype=float32), array(0.86972976, dtype=float32), array(0.8520378, dtype=float32), array(0.8500062, dtype=float32), array(0.83668435, dtype=float32), array(0.8312468, dtype=float32), array(0.8813113, dtype=float32), array(0.84488714, dtype=float32), array(0.83934283, dtype=float32), array(0.8392978, dtype=float32), array(0.83341545, dtype=float32), array(0.8228514, dtype=float32), array(0.83073926, dtype=float32), array(0.8148272, dtype=float32), array(0.8287584, dtype=float32), array(0.81898594, dtype=float32), array(0.8301867, dtype=float32), array(0.828249, dtype=float32), array(0.8050603, dtype=float32), array(0.79813904, dtype=float32), array(0.8109714, dtype=float32), array(0.82573915, dtype=float32), array(0.8015296, dtype=float32), array(0.7940744, dtype=float32), array(0.7976508, dtype=float32), array(0.8181093, dtype=float32), array(0.7884595, dtype=float32), array(0.78999895, dtype=float32), array(0.7964823, dtype=float32), array(0.79746354, dtype=float32), array(0.80105776, dtype=float32), array(0.7888319, dtype=float32), array(0.7891296, dtype=float32), array(0.80120313, dtype=float32), array(0.77387774, dtype=float32), array(0.80445004, dtype=float32), array(0.77571267, dtype=float32), array(0.7770237, dtype=float32), array(0.7808218, dtype=float32), array(0.7730826, dtype=float32), array(0.76604605, dtype=float32), array(0.7763996, dtype=float32), array(0.7588884, dtype=float32), array(0.77951276, dtype=float32), array(0.775274, dtype=float32), array(0.76494324, dtype=float32), array(0.7742518, dtype=float32), array(0.76145166, dtype=float32), array(0.7752599, dtype=float32), array(0.76573867, dtype=float32), array(0.75706184, dtype=float32), array(0.7525555, dtype=float32), array(0.7540325, dtype=float32), array(0.74571955, dtype=float32), array(0.7640917, dtype=float32), array(0.7558974, dtype=float32), array(0.75807464, dtype=float32), array(0.753507, dtype=float32), array(0.7506089, dtype=float32), array(0.7487022, dtype=float32), array(0.7496137, dtype=float32), array(0.74412763, dtype=float32), array(0.7490033, dtype=float32), array(0.7506618, dtype=float32), array(0.7341888, dtype=float32), array(0.74087447, dtype=float32), array(0.74848384, dtype=float32), array(0.71685666, dtype=float32), array(0.7334549, dtype=float32), array(0.7344455, dtype=float32), array(0.73115814, dtype=float32), array(0.7298164, dtype=float32), array(0.7301759, dtype=float32), array(0.7302069, dtype=float32), array(0.7306504, dtype=float32), array(0.725108, dtype=float32), array(0.7320425, dtype=float32), array(0.7142323, dtype=float32), array(0.7325009, dtype=float32), array(0.7218966, dtype=float32), array(0.7174699, dtype=float32), array(0.72927994, dtype=float32), array(0.70323277, dtype=float32), array(0.71073055, dtype=float32), array(0.7198543, dtype=float32), array(0.76744175, dtype=float32), array(0.73383224, dtype=float32), array(0.699828, dtype=float32), array(0.7010305, dtype=float32), array(0.70282185, dtype=float32), array(0.72298706, dtype=float32), array(0.7141274, dtype=float32), array(0.7201964, dtype=float32), array(0.68516624, dtype=float32), array(0.74738455, dtype=float32), array(0.72288054, dtype=float32), array(0.6935191, dtype=float32), array(0.69559693, dtype=float32), array(0.70730436, dtype=float32), array(0.70483035, dtype=float32), array(0.70827883, dtype=float32), array(0.7004838, dtype=float32), array(0.7037506, dtype=float32), array(0.69103765, dtype=float32), array(0.69790596, dtype=float32), array(0.70876944, dtype=float32), array(0.6871149, dtype=float32), array(0.6982516, dtype=float32), array(0.69469965, dtype=float32), array(0.68665886, dtype=float32), array(0.70784163, dtype=float32), array(0.6906184, dtype=float32), array(0.6753676, dtype=float32), array(0.69491976, dtype=float32), array(0.6881818, dtype=float32), array(0.6956992, dtype=float32), array(0.70000875, dtype=float32), array(0.70384145, dtype=float32), array(0.69640034, dtype=float32), array(0.6920446, dtype=float32), array(0.68135643, dtype=float32), array(0.69096076, dtype=float32), array(0.68625903, dtype=float32), array(0.6637198, dtype=float32), array(0.6676678, dtype=float32), array(0.6693425, dtype=float32), array(0.691285, dtype=float32), array(0.669089, dtype=float32), array(0.6850464, dtype=float32), array(0.67017317, dtype=float32), array(0.6648769, dtype=float32), array(0.6821965, dtype=float32), array(0.68993586, dtype=float32), array(0.6786439, dtype=float32), array(0.68128955, dtype=float32), array(0.67642486, dtype=float32), array(0.6825959, dtype=float32), array(0.6873981, dtype=float32), array(0.67028445, dtype=float32), array(0.6948754, dtype=float32), array(0.6733556, dtype=float32), array(0.6989218, dtype=float32), array(0.66138834, dtype=float32), array(0.66420215, dtype=float32), array(0.6735172, dtype=float32), array(0.6768199, dtype=float32), array(0.7020981, dtype=float32), array(0.668512, dtype=float32), array(0.67225313, dtype=float32), array(0.67902505, dtype=float32), array(0.676614, dtype=float32), array(0.65681297, dtype=float32), array(0.6658529, dtype=float32), array(0.68479025, dtype=float32), array(0.6674118, dtype=float32), array(0.6719393, dtype=float32), array(0.67323864, dtype=float32), array(0.6742754, dtype=float32), array(0.6978893, dtype=float32), array(0.6636467, dtype=float32), array(0.66227823, dtype=float32), array(0.6937403, dtype=float32), array(0.6518357, dtype=float32), array(0.672335, dtype=float32), array(0.66052413, dtype=float32), array(0.6720674, dtype=float32), array(0.6605472, dtype=float32), array(0.66049504, dtype=float32), array(0.6608035, dtype=float32), array(0.6498319, dtype=float32), array(0.6617059, dtype=float32), array(0.65906566, dtype=float32), array(0.666259, dtype=float32), array(0.6489473, dtype=float32), array(0.6695354, dtype=float32), array(0.66030216, dtype=float32), array(0.6644372, dtype=float32), array(0.67159164, dtype=float32), array(0.6673837, dtype=float32), array(0.6418686, dtype=float32), array(0.664624, dtype=float32), array(0.6593492, dtype=float32), array(0.6533965, dtype=float32), array(0.64199823, dtype=float32), array(0.6474177, dtype=float32), array(0.66782033, dtype=float32), array(0.6535415, dtype=float32), array(0.64564806, dtype=float32), array(0.673085, dtype=float32), array(0.65300643, dtype=float32), array(0.6586622, dtype=float32), array(0.6593644, dtype=float32), array(0.6559827, dtype=float32), array(0.64918524, dtype=float32), array(0.6508434, dtype=float32), array(0.6561414, dtype=float32), array(0.65566075, dtype=float32), array(0.6425114, dtype=float32), array(0.6578159, dtype=float32), array(0.6646224, dtype=float32), array(0.64980924, dtype=float32), array(0.6461301, dtype=float32), array(0.64877045, dtype=float32), array(0.65264714, dtype=float32), array(0.66641825, dtype=float32), array(0.649039, dtype=float32), array(0.6613529, dtype=float32), array(0.64405054, dtype=float32), array(0.6394465, dtype=float32), array(0.64010787, dtype=float32), array(0.6573466, dtype=float32), array(0.6472523, dtype=float32), array(0.64200914, dtype=float32), array(0.6774189, dtype=float32), array(0.637467, dtype=float32), array(0.65176237, dtype=float32), array(0.6425437, dtype=float32), array(0.65665346, dtype=float32), array(0.6509721, dtype=float32), array(0.6452931, dtype=float32), array(0.6257492, dtype=float32), array(0.62720984, dtype=float32), array(0.6350173, dtype=float32), array(0.63822436, dtype=float32), array(0.6574493, dtype=float32), array(0.6598836, dtype=float32), array(0.6426984, dtype=float32), array(0.64117754, dtype=float32), array(0.68052644, dtype=float32), array(0.63190407, dtype=float32), array(0.6477411, dtype=float32), array(0.6411669, dtype=float32), array(0.64267, dtype=float32), array(0.65409446, dtype=float32), array(0.6326673, dtype=float32), array(0.6297208, dtype=float32), array(0.6796095, dtype=float32), array(0.6431366, dtype=float32), array(0.62313664, dtype=float32), array(0.63814557, dtype=float32), array(0.65008783, dtype=float32), array(0.6564936, dtype=float32), array(0.65176475, dtype=float32), array(0.63892716, dtype=float32), array(0.6459321, dtype=float32), array(0.6506889, dtype=float32), array(0.6329749, dtype=float32), array(0.64583474, dtype=float32), array(0.6345479, dtype=float32), array(0.6344201, dtype=float32), array(0.6384872, dtype=float32), array(0.63964707, dtype=float32), array(0.6538558, dtype=float32), array(0.62416255, dtype=float32), array(0.6277842, dtype=float32), array(0.6469769, dtype=float32), array(0.6390939, dtype=float32), array(0.6446204, dtype=float32), array(0.6383103, dtype=float32), array(0.6237614, dtype=float32), array(0.6294668, dtype=float32), array(0.62939656, dtype=float32), array(0.6295949, dtype=float32), array(0.62886626, dtype=float32), array(0.6438989, dtype=float32), array(0.6358008, dtype=float32), array(0.6420655, dtype=float32), array(0.6630982, dtype=float32), array(0.62382233, dtype=float32), array(0.6191647, dtype=float32), array(0.6484872, dtype=float32), array(0.6276046, dtype=float32), array(0.62110204, dtype=float32), array(0.62893385, dtype=float32), array(0.637245, dtype=float32), array(0.6453297, dtype=float32), array(0.62411904, dtype=float32), array(0.6351578, dtype=float32), array(0.61856323, dtype=float32), array(0.6342237, dtype=float32), array(0.64097494, dtype=float32), array(0.61163133, dtype=float32), array(0.65058273, dtype=float32), array(0.65297425, dtype=float32), array(0.6314505, dtype=float32), array(0.635213, dtype=float32), array(0.62060416, dtype=float32), array(0.6289828, dtype=float32), array(0.60802615, dtype=float32), array(0.636083, dtype=float32), array(0.6206024, dtype=float32), array(0.62974036, dtype=float32), array(0.6340833, dtype=float32), array(0.6224896, dtype=float32), array(0.6366593, dtype=float32), array(0.641065, dtype=float32), array(0.6185187, dtype=float32), array(0.64141715, dtype=float32), array(0.6319374, dtype=float32), array(0.63305575, dtype=float32), array(0.6231023, dtype=float32), array(0.64209926, dtype=float32), array(0.6468799, dtype=float32), array(0.6199677, dtype=float32), array(0.62988454, dtype=float32), array(0.6274607, dtype=float32), array(0.6396704, dtype=float32), array(0.624181, dtype=float32), array(0.62228733, dtype=float32), array(0.6447039, dtype=float32), array(0.6478704, dtype=float32), array(0.6330571, dtype=float32), array(0.6348107, dtype=float32), array(0.6259963, dtype=float32), array(0.61677396, dtype=float32), array(0.6340521, dtype=float32), array(0.61663127, dtype=float32), array(0.6394353, dtype=float32), array(0.61997765, dtype=float32), array(0.62711066, dtype=float32), array(0.62688446, dtype=float32), array(0.63119406, dtype=float32), array(0.617378, dtype=float32), array(0.6535946, dtype=float32), array(0.63094825, dtype=float32), array(0.61694753, dtype=float32), array(0.6312297, dtype=float32), array(0.6465702, dtype=float32), array(0.6646361, dtype=float32), array(0.6262893, dtype=float32), array(0.6095609, dtype=float32), array(0.61873364, dtype=float32), array(0.6132614, dtype=float32), array(0.6348251, dtype=float32), array(0.6338613, dtype=float32), array(0.6198205, dtype=float32), array(0.61866456, dtype=float32), array(0.619857, dtype=float32), array(0.63242435, dtype=float32), array(0.61693084, dtype=float32), array(0.62876606, dtype=float32), array(0.65217304, dtype=float32), array(0.6490228, dtype=float32), array(0.61712354, dtype=float32), array(0.63044566, dtype=float32), array(0.63745064, dtype=float32), array(0.628718, dtype=float32), array(0.61017096, dtype=float32), array(0.63508964, dtype=float32), array(0.6512944, dtype=float32), array(0.6201899, dtype=float32), array(0.6198175, dtype=float32), array(0.61929935, dtype=float32), array(0.6112595, dtype=float32), array(0.6312896, dtype=float32), array(0.64498717, dtype=float32), array(0.6397205, dtype=float32), array(0.6342751, dtype=float32), array(0.6194319, dtype=float32), array(0.64552087, dtype=float32), array(0.6333853, dtype=float32), array(0.620755, dtype=float32), array(0.61843276, dtype=float32), array(0.6073518, dtype=float32), array(0.62778354, dtype=float32), array(0.61663115, dtype=float32), array(0.6365052, dtype=float32), array(0.62836987, dtype=float32), array(0.619365, dtype=float32), array(0.6155822, dtype=float32), array(0.6163844, dtype=float32), array(0.6250452, dtype=float32), array(0.63064253, dtype=float32), array(0.6276881, dtype=float32), array(0.62859, dtype=float32), array(0.63957393, dtype=float32), array(0.63216186, dtype=float32), array(0.60751384, dtype=float32), array(0.6334165, dtype=float32), array(0.6303553, dtype=float32), array(0.6452631, dtype=float32), array(0.6426128, dtype=float32), array(0.6305436, dtype=float32), array(0.6316785, dtype=float32), array(0.6143807, dtype=float32), array(0.63256073, dtype=float32), array(0.6194912, dtype=float32), array(0.6244646, dtype=float32), array(0.611714, dtype=float32), array(0.62005174, dtype=float32), array(0.61753255, dtype=float32), array(0.610785, dtype=float32), array(0.59565663, dtype=float32), array(0.6269044, dtype=float32), array(0.6242683, dtype=float32), array(0.61430204, dtype=float32), array(0.62100095, dtype=float32), array(0.62952244, dtype=float32), array(0.6190275, dtype=float32), array(0.602877, dtype=float32), array(0.6171867, dtype=float32), array(0.63061124, dtype=float32), array(0.6308754, dtype=float32), array(0.63856995, dtype=float32), array(0.6211285, dtype=float32), array(0.6126159, dtype=float32), array(0.60182446, dtype=float32), array(0.62423027, dtype=float32), array(0.6348585, dtype=float32), array(0.61207575, dtype=float32), array(0.6359664, dtype=float32), array(0.6313846, dtype=float32), array(0.6196619, dtype=float32), array(0.6362356, dtype=float32), array(0.6409581, dtype=float32), array(0.6361977, dtype=float32), array(0.62147117, dtype=float32), array(0.608968, dtype=float32), array(0.61279875, dtype=float32), array(0.6055337, dtype=float32), array(0.60524696, dtype=float32), array(0.62874144, dtype=float32), array(0.6543102, dtype=float32), array(0.5994307, dtype=float32), array(0.62606514, dtype=float32), array(0.637103, dtype=float32), array(0.61433643, dtype=float32), array(0.6096486, dtype=float32), array(0.6088904, dtype=float32), array(0.60078925, dtype=float32), array(0.64475906, dtype=float32), array(0.6748582, dtype=float32), array(0.60765713, dtype=float32), array(0.59465235, dtype=float32), array(0.62378204, dtype=float32), array(0.61651075, dtype=float32), array(0.647745, dtype=float32), array(0.6201116, dtype=float32), array(0.6133743, dtype=float32), array(0.6176671, dtype=float32), array(0.624745, dtype=float32), array(0.6180443, dtype=float32), array(0.62089884, dtype=float32), array(0.6167433, dtype=float32), array(0.6174128, dtype=float32), array(0.61895406, dtype=float32), array(0.63716775, dtype=float32), array(0.6190758, dtype=float32), array(0.63040245, dtype=float32), array(0.6338978, dtype=float32), array(0.6018404, dtype=float32), array(0.62414116, dtype=float32), array(0.621684, dtype=float32), array(0.6186446, dtype=float32), array(0.6306845, dtype=float32), array(0.63289535, dtype=float32), array(0.6499058, dtype=float32), array(0.60458994, dtype=float32), array(0.61952895, dtype=float32), array(0.623617, dtype=float32), array(0.61629486, dtype=float32), array(0.599789, dtype=float32), array(0.60645187, dtype=float32), array(0.62000823, dtype=float32), array(0.60277927, dtype=float32), array(0.6168639, dtype=float32), array(0.5959376, dtype=float32), array(0.5958674, dtype=float32), array(0.59879375, dtype=float32), array(0.6269448, dtype=float32), array(0.60879827, dtype=float32), array(0.6239211, dtype=float32), array(0.5984656, dtype=float32), array(0.61474, dtype=float32), array(0.592944, dtype=float32), array(0.60696745, dtype=float32), array(0.6134316, dtype=float32), array(0.60639715, dtype=float32), array(0.6041055, dtype=float32), array(0.60302794, dtype=float32), array(0.62458414, dtype=float32), array(0.6102394, dtype=float32), array(0.6082941, dtype=float32), array(0.6422667, dtype=float32), array(0.6092626, dtype=float32), array(0.60304, dtype=float32), array(0.59920365, dtype=float32), array(0.61381006, dtype=float32), array(0.6212417, dtype=float32), array(0.60709417, dtype=float32), array(0.6241307, dtype=float32), array(0.62688106, dtype=float32), array(0.6381773, dtype=float32), array(0.59251696, dtype=float32), array(0.6308722, dtype=float32), array(0.6177961, dtype=float32), array(0.6364951, dtype=float32), array(0.63148755, dtype=float32), array(0.6084272, dtype=float32), array(0.6008213, dtype=float32), array(0.61163723, dtype=float32), array(0.5949179, dtype=float32), array(0.6376788, dtype=float32), array(0.61633325, dtype=float32), array(0.6233655, dtype=float32), array(0.62232, dtype=float32), array(0.60300624, dtype=float32), array(0.6079392, dtype=float32), array(0.60731596, dtype=float32), array(0.62338674, dtype=float32), array(0.60674906, dtype=float32), array(0.6257872, dtype=float32), array(0.60626006, dtype=float32), array(0.60370946, dtype=float32), array(0.61028564, dtype=float32), array(0.6053338, dtype=float32), array(0.63643694, dtype=float32), array(0.60370886, dtype=float32), array(0.6228944, dtype=float32), array(0.61322117, dtype=float32), array(0.61484474, dtype=float32), array(0.62069076, dtype=float32), array(0.60215497, dtype=float32), array(0.6141372, dtype=float32), array(0.63192743, dtype=float32), array(0.6116159, dtype=float32), array(0.6114465, dtype=float32), array(0.6297109, dtype=float32), array(0.6143856, dtype=float32), array(0.6051347, dtype=float32), array(0.60212743, dtype=float32), array(0.61207867, dtype=float32), array(0.5975601, dtype=float32), array(0.72292364, dtype=float32), array(0.6016062, dtype=float32), array(0.633165, dtype=float32), array(0.62604845, dtype=float32), array(0.6177906, dtype=float32), array(0.6193825, dtype=float32), array(0.6030519, dtype=float32), array(0.6016282, dtype=float32), array(0.6070492, dtype=float32), array(0.61348563, dtype=float32), array(0.6168222, dtype=float32), array(0.65227216, dtype=float32), array(0.5981044, dtype=float32), array(0.62444293, dtype=float32), array(0.6049744, dtype=float32), array(0.6337055, dtype=float32), array(0.5972949, dtype=float32), array(0.6075145, dtype=float32), array(0.59472823, dtype=float32), array(0.5869292, dtype=float32), array(0.6162381, dtype=float32), array(0.63072443, dtype=float32), array(0.6064013, dtype=float32), array(0.62055266, dtype=float32), array(0.60009784, dtype=float32), array(0.5983059, dtype=float32), array(0.61463785, dtype=float32), array(0.5972477, dtype=float32), array(0.59711784, dtype=float32), array(0.6041709, dtype=float32), array(0.59602004, dtype=float32), array(0.6070255, dtype=float32), array(0.6067455, dtype=float32), array(0.62275445, dtype=float32), array(0.59897596, dtype=float32), array(0.614524, dtype=float32), array(0.6083572, dtype=float32), array(0.6012575, dtype=float32), array(0.65539706, dtype=float32), array(0.59969467, dtype=float32), array(0.60432625, dtype=float32), array(0.6151928, dtype=float32), array(0.5990174, dtype=float32), array(0.5900068, dtype=float32), array(0.61503434, dtype=float32), array(0.6168928, dtype=float32), array(0.59854734, dtype=float32), array(0.6033772, dtype=float32), array(0.60788983, dtype=float32), array(0.6050136, dtype=float32), array(0.59917986, dtype=float32), array(0.6230554, dtype=float32), array(0.65049654, dtype=float32), array(0.6236419, dtype=float32), array(0.62112623, dtype=float32), array(0.6029868, dtype=float32), array(0.6321503, dtype=float32), array(0.61133516, dtype=float32), array(0.61587167, dtype=float32), array(0.6043252, dtype=float32), array(0.61919785, dtype=float32), array(0.620353, dtype=float32), array(0.6097018, dtype=float32), array(0.6105577, dtype=float32), array(0.6260159, dtype=float32), array(0.610479, dtype=float32), array(0.610852, dtype=float32), array(0.6143793, dtype=float32), array(0.6126894, dtype=float32), array(0.6174482, dtype=float32), array(0.6102205, dtype=float32), array(0.5979241, dtype=float32), array(0.6410342, dtype=float32), array(0.66714597, dtype=float32), array(0.61890036, dtype=float32), array(0.5963328, dtype=float32), array(0.5985571, dtype=float32), array(0.61618984, dtype=float32), array(0.5953717, dtype=float32), array(0.5907702, dtype=float32), array(0.63425833, dtype=float32), array(0.60784984, dtype=float32), array(0.60353255, dtype=float32), array(0.60146374, dtype=float32), array(0.59334546, dtype=float32), array(0.60221374, dtype=float32), array(0.6087517, dtype=float32), array(0.6115433, dtype=float32), array(0.60545033, dtype=float32), array(0.5935673, dtype=float32), array(0.60889006, dtype=float32), array(0.62812203, dtype=float32), array(0.62299955, dtype=float32), array(0.6248926, dtype=float32), array(0.6433223, dtype=float32), array(0.6063329, dtype=float32), array(0.59001267, dtype=float32), array(0.60276085, dtype=float32), array(0.6553628, dtype=float32), array(0.6170812, dtype=float32), array(0.61995363, dtype=float32), array(0.6041558, dtype=float32), array(0.6299851, dtype=float32), array(0.6307257, dtype=float32), array(0.62490165, dtype=float32), array(0.5900656, dtype=float32), array(0.60565114, dtype=float32), array(0.5890655, dtype=float32), array(0.6170649, dtype=float32), array(0.6118749, dtype=float32), array(0.6528925, dtype=float32), array(0.6185648, dtype=float32), array(0.61515725, dtype=float32), array(0.60071063, dtype=float32), array(0.6184396, dtype=float32), array(0.60727364, dtype=float32), array(0.6136534, dtype=float32), array(0.61883175, dtype=float32), array(0.5930229, dtype=float32), array(0.6063657, dtype=float32), array(0.5933176, dtype=float32), array(0.603069, dtype=float32), array(0.60194564, dtype=float32), array(0.6133588, dtype=float32), array(0.5931292, dtype=float32), array(0.60575604, dtype=float32), array(0.610313, dtype=float32), array(0.60643446, dtype=float32), array(0.6018652, dtype=float32), array(0.6287397, dtype=float32), array(0.6192303, dtype=float32), array(0.5943342, dtype=float32), array(0.60332084, dtype=float32), array(0.6359471, dtype=float32), array(0.61752665, dtype=float32), array(0.60533184, dtype=float32), array(0.59550047, dtype=float32), array(0.6154523, dtype=float32), array(0.6309433, dtype=float32), array(0.5913306, dtype=float32), array(0.61162984, dtype=float32), array(0.60455954, dtype=float32), array(0.6239544, dtype=float32), array(0.6039785, dtype=float32), array(0.61035, dtype=float32), array(0.6446859, dtype=float32), array(0.5969929, dtype=float32), array(0.590289, dtype=float32), array(0.59978557, dtype=float32), array(0.5938648, dtype=float32), array(0.5994009, dtype=float32), array(0.59412146, dtype=float32), array(0.62364465, dtype=float32), array(0.6008081, dtype=float32), array(0.6162293, dtype=float32), array(0.59228945, dtype=float32), array(0.6048202, dtype=float32), array(0.6033242, dtype=float32), array(0.60103637, dtype=float32), array(0.6035858, dtype=float32), array(0.610016, dtype=float32), array(0.6003025, dtype=float32), array(0.5895466, dtype=float32), array(0.60668945, dtype=float32), array(0.59312093, dtype=float32), array(0.63842505, dtype=float32), array(0.59028447, dtype=float32), array(0.60296786, dtype=float32), array(0.612422, dtype=float32), array(0.60413694, dtype=float32), array(0.6176127, dtype=float32), array(0.6012522, dtype=float32), array(0.6103325, dtype=float32), array(0.59857917, dtype=float32), array(0.62898666, dtype=float32), array(0.61123955, dtype=float32), array(0.613857, dtype=float32), array(0.6166095, dtype=float32), array(0.58421725, dtype=float32), array(0.60798967, dtype=float32), array(0.6293739, dtype=float32), array(0.5968955, dtype=float32), array(0.623268, dtype=float32), array(0.6117355, dtype=float32), array(0.6237049, dtype=float32), array(0.58952105, dtype=float32), array(0.6325488, dtype=float32), array(0.6009131, dtype=float32), array(0.62182415, dtype=float32), array(0.60648835, dtype=float32), array(0.59728837, dtype=float32), array(0.5960783, dtype=float32), array(0.5807061, dtype=float32), array(0.61314225, dtype=float32), array(0.60341656, dtype=float32), array(0.59718513, dtype=float32), array(0.61966264, dtype=float32), array(0.61831737, dtype=float32), array(0.5990338, dtype=float32), array(0.6104058, dtype=float32), array(0.587003, dtype=float32), array(0.614572, dtype=float32), array(0.59320253, dtype=float32), array(0.6129023, dtype=float32), array(0.6124929, dtype=float32), array(0.60527647, dtype=float32), array(0.5972256, dtype=float32), array(0.61209345, dtype=float32), array(0.5956367, dtype=float32), array(0.58482826, dtype=float32), array(0.61168516, dtype=float32), array(0.61170626, dtype=float32), array(0.63466984, dtype=float32), array(0.6275292, dtype=float32), array(0.5928838, dtype=float32), array(0.6265689, dtype=float32), array(0.6487743, dtype=float32), array(0.61530215, dtype=float32), array(0.60182345, dtype=float32), array(0.6079068, dtype=float32), array(0.60575664, dtype=float32), array(0.6160761, dtype=float32), array(0.5984404, dtype=float32), array(0.60952944, dtype=float32), array(0.64787567, dtype=float32), array(0.60187453, dtype=float32), array(0.61685383, dtype=float32), array(0.603583, dtype=float32), array(0.5959784, dtype=float32), array(0.6201809, dtype=float32), array(0.5948709, dtype=float32), array(0.6272351, dtype=float32), array(0.6043591, dtype=float32), array(0.6201818, dtype=float32), array(0.6084041, dtype=float32), array(0.6021837, dtype=float32), array(0.5951346, dtype=float32), array(0.63200945, dtype=float32), array(0.63047457, dtype=float32), array(0.6074456, dtype=float32), array(0.6044522, dtype=float32), array(0.60909986, dtype=float32), array(0.60612965, dtype=float32), array(0.59273875, dtype=float32), array(0.6038991, dtype=float32), array(0.60489225, dtype=float32), array(0.6199914, dtype=float32), array(0.6000153, dtype=float32), array(0.5837728, dtype=float32), array(0.615108, dtype=float32), array(0.5959988, dtype=float32), array(0.62020254, dtype=float32), array(0.6261269, dtype=float32), array(0.59883595, dtype=float32), array(0.5989367, dtype=float32), array(0.61005074, dtype=float32), array(0.60158885, dtype=float32), array(0.6001872, dtype=float32), array(0.612492, dtype=float32), array(0.66180795, dtype=float32), array(0.6094999, dtype=float32), array(0.6237744, dtype=float32), array(0.5887911, dtype=float32), array(0.6077008, dtype=float32), array(0.60054624, dtype=float32), array(0.60373163, dtype=float32), array(0.60963833, dtype=float32), array(0.6175971, dtype=float32), array(0.6255932, dtype=float32), array(0.6026129, dtype=float32), array(0.6155357, dtype=float32)]\n",
      "\n",
      "train_loss=[array(3.2661128, dtype=float32), array(3.0740037, dtype=float32), array(2.8792846, dtype=float32), array(2.7739315, dtype=float32), array(2.6075363, dtype=float32), array(2.4817343, dtype=float32), array(2.3600135, dtype=float32), array(2.2685199, dtype=float32), array(2.1313348, dtype=float32), array(2.05411, dtype=float32), array(1.984911, dtype=float32), array(1.9155624, dtype=float32), array(1.8355849, dtype=float32), array(1.7949457, dtype=float32), array(1.7369465, dtype=float32), array(1.6856607, dtype=float32), array(1.6491947, dtype=float32), array(1.5940784, dtype=float32), array(1.5570643, dtype=float32), array(1.5279994, dtype=float32), array(1.5147474, dtype=float32), array(1.4676083, dtype=float32), array(1.4413714, dtype=float32), array(1.4133549, dtype=float32), array(1.397723, dtype=float32), array(1.3606266, dtype=float32), array(1.3526111, dtype=float32), array(1.3350389, dtype=float32), array(1.3065838, dtype=float32), array(1.2897913, dtype=float32), array(1.2700784, dtype=float32), array(1.2726729, dtype=float32), array(1.2314214, dtype=float32), array(1.2286158, dtype=float32), array(1.2191228, dtype=float32), array(1.2028192, dtype=float32), array(1.1950616, dtype=float32), array(1.1723096, dtype=float32), array(1.161921, dtype=float32), array(1.165972, dtype=float32), array(1.1502761, dtype=float32), array(1.140341, dtype=float32), array(1.1260319, dtype=float32), array(1.1169839, dtype=float32), array(1.1071358, dtype=float32), array(1.1090097, dtype=float32), array(1.0778955, dtype=float32), array(1.0846027, dtype=float32), array(1.070933, dtype=float32), array(1.0707291, dtype=float32), array(1.0561469, dtype=float32), array(1.0529916, dtype=float32), array(1.0483403, dtype=float32), array(1.0292671, dtype=float32), array(1.0403818, dtype=float32), array(1.022871, dtype=float32), array(1.0290829, dtype=float32), array(1.0213115, dtype=float32), array(1.0070233, dtype=float32), array(1.0065401, dtype=float32), array(1.001304, dtype=float32), array(0.98791313, dtype=float32), array(0.99923503, dtype=float32), array(0.9726474, dtype=float32), array(0.98500466, dtype=float32), array(0.9619843, dtype=float32), array(0.9536195, dtype=float32), array(0.9815825, dtype=float32), array(0.9465084, dtype=float32), array(0.95539224, dtype=float32), array(0.95305574, dtype=float32), array(0.941226, dtype=float32), array(0.94442, dtype=float32), array(0.94468826, dtype=float32), array(0.9317038, dtype=float32), array(0.91466403, dtype=float32), array(0.9129974, dtype=float32), array(0.9169754, dtype=float32), array(0.98328274, dtype=float32), array(0.9256387, dtype=float32), array(0.8887472, dtype=float32), array(0.914612, dtype=float32), array(0.9064208, dtype=float32), array(0.9137702, dtype=float32), array(0.9002547, dtype=float32), array(0.8950388, dtype=float32), array(0.8962685, dtype=float32), array(0.87724626, dtype=float32), array(0.8834981, dtype=float32), array(0.8783412, dtype=float32), array(0.8927506, dtype=float32), array(0.86063826, dtype=float32), array(0.8593019, dtype=float32), array(0.8658845, dtype=float32), array(0.8788661, dtype=float32), array(0.8517596, dtype=float32), array(0.8472284, dtype=float32), array(0.86972976, dtype=float32), array(0.8520378, dtype=float32), array(0.8500062, dtype=float32), array(0.83668435, dtype=float32), array(0.8312468, dtype=float32), array(0.8813113, dtype=float32), array(0.84488714, dtype=float32), array(0.83934283, dtype=float32), array(0.8392978, dtype=float32), array(0.83341545, dtype=float32), array(0.8228514, dtype=float32), array(0.83073926, dtype=float32), array(0.8148272, dtype=float32), array(0.8287584, dtype=float32), array(0.81898594, dtype=float32), array(0.8301867, dtype=float32), array(0.828249, dtype=float32), array(0.8050603, dtype=float32), array(0.79813904, dtype=float32), array(0.8109714, dtype=float32), array(0.82573915, dtype=float32), array(0.8015296, dtype=float32), array(0.7940744, dtype=float32), array(0.7976508, dtype=float32), array(0.8181093, dtype=float32), array(0.7884595, dtype=float32), array(0.78999895, dtype=float32), array(0.7964823, dtype=float32), array(0.79746354, dtype=float32), array(0.80105776, dtype=float32), array(0.7888319, dtype=float32), array(0.7891296, dtype=float32), array(0.80120313, dtype=float32), array(0.77387774, dtype=float32), array(0.80445004, dtype=float32), array(0.77571267, dtype=float32), array(0.7770237, dtype=float32), array(0.7808218, dtype=float32), array(0.7730826, dtype=float32), array(0.76604605, dtype=float32), array(0.7763996, dtype=float32), array(0.7588884, dtype=float32), array(0.77951276, dtype=float32), array(0.775274, dtype=float32), array(0.76494324, dtype=float32), array(0.7742518, dtype=float32), array(0.76145166, dtype=float32), array(0.7752599, dtype=float32), array(0.76573867, dtype=float32), array(0.75706184, dtype=float32), array(0.7525555, dtype=float32), array(0.7540325, dtype=float32), array(0.74571955, dtype=float32), array(0.7640917, dtype=float32), array(0.7558974, dtype=float32), array(0.75807464, dtype=float32), array(0.753507, dtype=float32), array(0.7506089, dtype=float32), array(0.7487022, dtype=float32), array(0.7496137, dtype=float32), array(0.74412763, dtype=float32), array(0.7490033, dtype=float32), array(0.7506618, dtype=float32), array(0.7341888, dtype=float32), array(0.74087447, dtype=float32), array(0.74848384, dtype=float32), array(0.71685666, dtype=float32), array(0.7334549, dtype=float32), array(0.7344455, dtype=float32), array(0.73115814, dtype=float32), array(0.7298164, dtype=float32), array(0.7301759, dtype=float32), array(0.7302069, dtype=float32), array(0.7306504, dtype=float32), array(0.725108, dtype=float32), array(0.7320425, dtype=float32), array(0.7142323, dtype=float32), array(0.7325009, dtype=float32), array(0.7218966, dtype=float32), array(0.7174699, dtype=float32), array(0.72927994, dtype=float32), array(0.70323277, dtype=float32), array(0.71073055, dtype=float32), array(0.7198543, dtype=float32), array(0.76744175, dtype=float32), array(0.73383224, dtype=float32), array(0.699828, dtype=float32), array(0.7010305, dtype=float32), array(0.70282185, dtype=float32), array(0.72298706, dtype=float32), array(0.7141274, dtype=float32), array(0.7201964, dtype=float32), array(0.68516624, dtype=float32), array(0.74738455, dtype=float32), array(0.72288054, dtype=float32), array(0.6935191, dtype=float32), array(0.69559693, dtype=float32), array(0.70730436, dtype=float32), array(0.70483035, dtype=float32), array(0.70827883, dtype=float32), array(0.7004838, dtype=float32), array(0.7037506, dtype=float32), array(0.69103765, dtype=float32), array(0.69790596, dtype=float32), array(0.70876944, dtype=float32), array(0.6871149, dtype=float32), array(0.6982516, dtype=float32), array(0.69469965, dtype=float32), array(0.68665886, dtype=float32), array(0.70784163, dtype=float32), array(0.6906184, dtype=float32), array(0.6753676, dtype=float32), array(0.69491976, dtype=float32), array(0.6881818, dtype=float32), array(0.6956992, dtype=float32), array(0.70000875, dtype=float32), array(0.70384145, dtype=float32), array(0.69640034, dtype=float32), array(0.6920446, dtype=float32), array(0.68135643, dtype=float32), array(0.69096076, dtype=float32), array(0.68625903, dtype=float32), array(0.6637198, dtype=float32), array(0.6676678, dtype=float32), array(0.6693425, dtype=float32), array(0.691285, dtype=float32), array(0.669089, dtype=float32), array(0.6850464, dtype=float32), array(0.67017317, dtype=float32), array(0.6648769, dtype=float32), array(0.6821965, dtype=float32), array(0.68993586, dtype=float32), array(0.6786439, dtype=float32), array(0.68128955, dtype=float32), array(0.67642486, dtype=float32), array(0.6825959, dtype=float32), array(0.6873981, dtype=float32), array(0.67028445, dtype=float32), array(0.6948754, dtype=float32), array(0.6733556, dtype=float32), array(0.6989218, dtype=float32), array(0.66138834, dtype=float32), array(0.66420215, dtype=float32), array(0.6735172, dtype=float32), array(0.6768199, dtype=float32), array(0.7020981, dtype=float32), array(0.668512, dtype=float32), array(0.67225313, dtype=float32), array(0.67902505, dtype=float32), array(0.676614, dtype=float32), array(0.65681297, dtype=float32), array(0.6658529, dtype=float32), array(0.68479025, dtype=float32), array(0.6674118, dtype=float32), array(0.6719393, dtype=float32), array(0.67323864, dtype=float32), array(0.6742754, dtype=float32), array(0.6978893, dtype=float32), array(0.6636467, dtype=float32), array(0.66227823, dtype=float32), array(0.6937403, dtype=float32), array(0.6518357, dtype=float32), array(0.672335, dtype=float32), array(0.66052413, dtype=float32), array(0.6720674, dtype=float32), array(0.6605472, dtype=float32), array(0.66049504, dtype=float32), array(0.6608035, dtype=float32), array(0.6498319, dtype=float32), array(0.6617059, dtype=float32), array(0.65906566, dtype=float32), array(0.666259, dtype=float32), array(0.6489473, dtype=float32), array(0.6695354, dtype=float32), array(0.66030216, dtype=float32), array(0.6644372, dtype=float32), array(0.67159164, dtype=float32), array(0.6673837, dtype=float32), array(0.6418686, dtype=float32), array(0.664624, dtype=float32), array(0.6593492, dtype=float32), array(0.6533965, dtype=float32), array(0.64199823, dtype=float32), array(0.6474177, dtype=float32), array(0.66782033, dtype=float32), array(0.6535415, dtype=float32), array(0.64564806, dtype=float32), array(0.673085, dtype=float32), array(0.65300643, dtype=float32), array(0.6586622, dtype=float32), array(0.6593644, dtype=float32), array(0.6559827, dtype=float32), array(0.64918524, dtype=float32), array(0.6508434, dtype=float32), array(0.6561414, dtype=float32), array(0.65566075, dtype=float32), array(0.6425114, dtype=float32), array(0.6578159, dtype=float32), array(0.6646224, dtype=float32), array(0.64980924, dtype=float32), array(0.6461301, dtype=float32), array(0.64877045, dtype=float32), array(0.65264714, dtype=float32), array(0.66641825, dtype=float32), array(0.649039, dtype=float32), array(0.6613529, dtype=float32), array(0.64405054, dtype=float32), array(0.6394465, dtype=float32), array(0.64010787, dtype=float32), array(0.6573466, dtype=float32), array(0.6472523, dtype=float32), array(0.64200914, dtype=float32), array(0.6774189, dtype=float32), array(0.637467, dtype=float32), array(0.65176237, dtype=float32), array(0.6425437, dtype=float32), array(0.65665346, dtype=float32), array(0.6509721, dtype=float32), array(0.6452931, dtype=float32), array(0.6257492, dtype=float32), array(0.62720984, dtype=float32), array(0.6350173, dtype=float32), array(0.63822436, dtype=float32), array(0.6574493, dtype=float32), array(0.6598836, dtype=float32), array(0.6426984, dtype=float32), array(0.64117754, dtype=float32), array(0.68052644, dtype=float32), array(0.63190407, dtype=float32), array(0.6477411, dtype=float32), array(0.6411669, dtype=float32), array(0.64267, dtype=float32), array(0.65409446, dtype=float32), array(0.6326673, dtype=float32), array(0.6297208, dtype=float32), array(0.6796095, dtype=float32), array(0.6431366, dtype=float32), array(0.62313664, dtype=float32), array(0.63814557, dtype=float32), array(0.65008783, dtype=float32), array(0.6564936, dtype=float32), array(0.65176475, dtype=float32), array(0.63892716, dtype=float32), array(0.6459321, dtype=float32), array(0.6506889, dtype=float32), array(0.6329749, dtype=float32), array(0.64583474, dtype=float32), array(0.6345479, dtype=float32), array(0.6344201, dtype=float32), array(0.6384872, dtype=float32), array(0.63964707, dtype=float32), array(0.6538558, dtype=float32), array(0.62416255, dtype=float32), array(0.6277842, dtype=float32), array(0.6469769, dtype=float32), array(0.6390939, dtype=float32), array(0.6446204, dtype=float32), array(0.6383103, dtype=float32), array(0.6237614, dtype=float32), array(0.6294668, dtype=float32), array(0.62939656, dtype=float32), array(0.6295949, dtype=float32), array(0.62886626, dtype=float32), array(0.6438989, dtype=float32), array(0.6358008, dtype=float32), array(0.6420655, dtype=float32), array(0.6630982, dtype=float32), array(0.62382233, dtype=float32), array(0.6191647, dtype=float32), array(0.6484872, dtype=float32), array(0.6276046, dtype=float32), array(0.62110204, dtype=float32), array(0.62893385, dtype=float32), array(0.637245, dtype=float32), array(0.6453297, dtype=float32), array(0.62411904, dtype=float32), array(0.6351578, dtype=float32), array(0.61856323, dtype=float32), array(0.6342237, dtype=float32), array(0.64097494, dtype=float32), array(0.61163133, dtype=float32), array(0.65058273, dtype=float32), array(0.65297425, dtype=float32), array(0.6314505, dtype=float32), array(0.635213, dtype=float32), array(0.62060416, dtype=float32), array(0.6289828, dtype=float32), array(0.60802615, dtype=float32), array(0.636083, dtype=float32), array(0.6206024, dtype=float32), array(0.62974036, dtype=float32), array(0.6340833, dtype=float32), array(0.6224896, dtype=float32), array(0.6366593, dtype=float32), array(0.641065, dtype=float32), array(0.6185187, dtype=float32), array(0.64141715, dtype=float32), array(0.6319374, dtype=float32), array(0.63305575, dtype=float32), array(0.6231023, dtype=float32), array(0.64209926, dtype=float32), array(0.6468799, dtype=float32), array(0.6199677, dtype=float32), array(0.62988454, dtype=float32), array(0.6274607, dtype=float32), array(0.6396704, dtype=float32), array(0.624181, dtype=float32), array(0.62228733, dtype=float32), array(0.6447039, dtype=float32), array(0.6478704, dtype=float32), array(0.6330571, dtype=float32), array(0.6348107, dtype=float32), array(0.6259963, dtype=float32), array(0.61677396, dtype=float32), array(0.6340521, dtype=float32), array(0.61663127, dtype=float32), array(0.6394353, dtype=float32), array(0.61997765, dtype=float32), array(0.62711066, dtype=float32), array(0.62688446, dtype=float32), array(0.63119406, dtype=float32), array(0.617378, dtype=float32), array(0.6535946, dtype=float32), array(0.63094825, dtype=float32), array(0.61694753, dtype=float32), array(0.6312297, dtype=float32), array(0.6465702, dtype=float32), array(0.6646361, dtype=float32), array(0.6262893, dtype=float32), array(0.6095609, dtype=float32), array(0.61873364, dtype=float32), array(0.6132614, dtype=float32), array(0.6348251, dtype=float32), array(0.6338613, dtype=float32), array(0.6198205, dtype=float32), array(0.61866456, dtype=float32), array(0.619857, dtype=float32), array(0.63242435, dtype=float32), array(0.61693084, dtype=float32), array(0.62876606, dtype=float32), array(0.65217304, dtype=float32), array(0.6490228, dtype=float32), array(0.61712354, dtype=float32), array(0.63044566, dtype=float32), array(0.63745064, dtype=float32), array(0.628718, dtype=float32), array(0.61017096, dtype=float32), array(0.63508964, dtype=float32), array(0.6512944, dtype=float32), array(0.6201899, dtype=float32), array(0.6198175, dtype=float32), array(0.61929935, dtype=float32), array(0.6112595, dtype=float32), array(0.6312896, dtype=float32), array(0.64498717, dtype=float32), array(0.6397205, dtype=float32), array(0.6342751, dtype=float32), array(0.6194319, dtype=float32), array(0.64552087, dtype=float32), array(0.6333853, dtype=float32), array(0.620755, dtype=float32), array(0.61843276, dtype=float32), array(0.6073518, dtype=float32), array(0.62778354, dtype=float32), array(0.61663115, dtype=float32), array(0.6365052, dtype=float32), array(0.62836987, dtype=float32), array(0.619365, dtype=float32), array(0.6155822, dtype=float32), array(0.6163844, dtype=float32), array(0.6250452, dtype=float32), array(0.63064253, dtype=float32), array(0.6276881, dtype=float32), array(0.62859, dtype=float32), array(0.63957393, dtype=float32), array(0.63216186, dtype=float32), array(0.60751384, dtype=float32), array(0.6334165, dtype=float32), array(0.6303553, dtype=float32), array(0.6452631, dtype=float32), array(0.6426128, dtype=float32), array(0.6305436, dtype=float32), array(0.6316785, dtype=float32), array(0.6143807, dtype=float32), array(0.63256073, dtype=float32), array(0.6194912, dtype=float32), array(0.6244646, dtype=float32), array(0.611714, dtype=float32), array(0.62005174, dtype=float32), array(0.61753255, dtype=float32), array(0.610785, dtype=float32), array(0.59565663, dtype=float32), array(0.6269044, dtype=float32), array(0.6242683, dtype=float32), array(0.61430204, dtype=float32), array(0.62100095, dtype=float32), array(0.62952244, dtype=float32), array(0.6190275, dtype=float32), array(0.602877, dtype=float32), array(0.6171867, dtype=float32), array(0.63061124, dtype=float32), array(0.6308754, dtype=float32), array(0.63856995, dtype=float32), array(0.6211285, dtype=float32), array(0.6126159, dtype=float32), array(0.60182446, dtype=float32), array(0.62423027, dtype=float32), array(0.6348585, dtype=float32), array(0.61207575, dtype=float32), array(0.6359664, dtype=float32), array(0.6313846, dtype=float32), array(0.6196619, dtype=float32), array(0.6362356, dtype=float32), array(0.6409581, dtype=float32), array(0.6361977, dtype=float32), array(0.62147117, dtype=float32), array(0.608968, dtype=float32), array(0.61279875, dtype=float32), array(0.6055337, dtype=float32), array(0.60524696, dtype=float32), array(0.62874144, dtype=float32), array(0.6543102, dtype=float32), array(0.5994307, dtype=float32), array(0.62606514, dtype=float32), array(0.637103, dtype=float32), array(0.61433643, dtype=float32), array(0.6096486, dtype=float32), array(0.6088904, dtype=float32), array(0.60078925, dtype=float32), array(0.64475906, dtype=float32), array(0.6748582, dtype=float32), array(0.60765713, dtype=float32), array(0.59465235, dtype=float32), array(0.62378204, dtype=float32), array(0.61651075, dtype=float32), array(0.647745, dtype=float32), array(0.6201116, dtype=float32), array(0.6133743, dtype=float32), array(0.6176671, dtype=float32), array(0.624745, dtype=float32), array(0.6180443, dtype=float32), array(0.62089884, dtype=float32), array(0.6167433, dtype=float32), array(0.6174128, dtype=float32), array(0.61895406, dtype=float32), array(0.63716775, dtype=float32), array(0.6190758, dtype=float32), array(0.63040245, dtype=float32), array(0.6338978, dtype=float32), array(0.6018404, dtype=float32), array(0.62414116, dtype=float32), array(0.621684, dtype=float32), array(0.6186446, dtype=float32), array(0.6306845, dtype=float32), array(0.63289535, dtype=float32), array(0.6499058, dtype=float32), array(0.60458994, dtype=float32), array(0.61952895, dtype=float32), array(0.623617, dtype=float32), array(0.61629486, dtype=float32), array(0.599789, dtype=float32), array(0.60645187, dtype=float32), array(0.62000823, dtype=float32), array(0.60277927, dtype=float32), array(0.6168639, dtype=float32), array(0.5959376, dtype=float32), array(0.5958674, dtype=float32), array(0.59879375, dtype=float32), array(0.6269448, dtype=float32), array(0.60879827, dtype=float32), array(0.6239211, dtype=float32), array(0.5984656, dtype=float32), array(0.61474, dtype=float32), array(0.592944, dtype=float32), array(0.60696745, dtype=float32), array(0.6134316, dtype=float32), array(0.60639715, dtype=float32), array(0.6041055, dtype=float32), array(0.60302794, dtype=float32), array(0.62458414, dtype=float32), array(0.6102394, dtype=float32), array(0.6082941, dtype=float32), array(0.6422667, dtype=float32), array(0.6092626, dtype=float32), array(0.60304, dtype=float32), array(0.59920365, dtype=float32), array(0.61381006, dtype=float32), array(0.6212417, dtype=float32), array(0.60709417, dtype=float32), array(0.6241307, dtype=float32), array(0.62688106, dtype=float32), array(0.6381773, dtype=float32), array(0.59251696, dtype=float32), array(0.6308722, dtype=float32), array(0.6177961, dtype=float32), array(0.6364951, dtype=float32), array(0.63148755, dtype=float32), array(0.6084272, dtype=float32), array(0.6008213, dtype=float32), array(0.61163723, dtype=float32), array(0.5949179, dtype=float32), array(0.6376788, dtype=float32), array(0.61633325, dtype=float32), array(0.6233655, dtype=float32), array(0.62232, dtype=float32), array(0.60300624, dtype=float32), array(0.6079392, dtype=float32), array(0.60731596, dtype=float32), array(0.62338674, dtype=float32), array(0.60674906, dtype=float32), array(0.6257872, dtype=float32), array(0.60626006, dtype=float32), array(0.60370946, dtype=float32), array(0.61028564, dtype=float32), array(0.6053338, dtype=float32), array(0.63643694, dtype=float32), array(0.60370886, dtype=float32), array(0.6228944, dtype=float32), array(0.61322117, dtype=float32), array(0.61484474, dtype=float32), array(0.62069076, dtype=float32), array(0.60215497, dtype=float32), array(0.6141372, dtype=float32), array(0.63192743, dtype=float32), array(0.6116159, dtype=float32), array(0.6114465, dtype=float32), array(0.6297109, dtype=float32), array(0.6143856, dtype=float32), array(0.6051347, dtype=float32), array(0.60212743, dtype=float32), array(0.61207867, dtype=float32), array(0.5975601, dtype=float32), array(0.72292364, dtype=float32), array(0.6016062, dtype=float32), array(0.633165, dtype=float32), array(0.62604845, dtype=float32), array(0.6177906, dtype=float32), array(0.6193825, dtype=float32), array(0.6030519, dtype=float32), array(0.6016282, dtype=float32), array(0.6070492, dtype=float32), array(0.61348563, dtype=float32), array(0.6168222, dtype=float32), array(0.65227216, dtype=float32), array(0.5981044, dtype=float32), array(0.62444293, dtype=float32), array(0.6049744, dtype=float32), array(0.6337055, dtype=float32), array(0.5972949, dtype=float32), array(0.6075145, dtype=float32), array(0.59472823, dtype=float32), array(0.5869292, dtype=float32), array(0.6162381, dtype=float32), array(0.63072443, dtype=float32), array(0.6064013, dtype=float32), array(0.62055266, dtype=float32), array(0.60009784, dtype=float32), array(0.5983059, dtype=float32), array(0.61463785, dtype=float32), array(0.5972477, dtype=float32), array(0.59711784, dtype=float32), array(0.6041709, dtype=float32), array(0.59602004, dtype=float32), array(0.6070255, dtype=float32), array(0.6067455, dtype=float32), array(0.62275445, dtype=float32), array(0.59897596, dtype=float32), array(0.614524, dtype=float32), array(0.6083572, dtype=float32), array(0.6012575, dtype=float32), array(0.65539706, dtype=float32), array(0.59969467, dtype=float32), array(0.60432625, dtype=float32), array(0.6151928, dtype=float32), array(0.5990174, dtype=float32), array(0.5900068, dtype=float32), array(0.61503434, dtype=float32), array(0.6168928, dtype=float32), array(0.59854734, dtype=float32), array(0.6033772, dtype=float32), array(0.60788983, dtype=float32), array(0.6050136, dtype=float32), array(0.59917986, dtype=float32), array(0.6230554, dtype=float32), array(0.65049654, dtype=float32), array(0.6236419, dtype=float32), array(0.62112623, dtype=float32), array(0.6029868, dtype=float32), array(0.6321503, dtype=float32), array(0.61133516, dtype=float32), array(0.61587167, dtype=float32), array(0.6043252, dtype=float32), array(0.61919785, dtype=float32), array(0.620353, dtype=float32), array(0.6097018, dtype=float32), array(0.6105577, dtype=float32), array(0.6260159, dtype=float32), array(0.610479, dtype=float32), array(0.610852, dtype=float32), array(0.6143793, dtype=float32), array(0.6126894, dtype=float32), array(0.6174482, dtype=float32), array(0.6102205, dtype=float32), array(0.5979241, dtype=float32), array(0.6410342, dtype=float32), array(0.66714597, dtype=float32), array(0.61890036, dtype=float32), array(0.5963328, dtype=float32), array(0.5985571, dtype=float32), array(0.61618984, dtype=float32), array(0.5953717, dtype=float32), array(0.5907702, dtype=float32), array(0.63425833, dtype=float32), array(0.60784984, dtype=float32), array(0.60353255, dtype=float32), array(0.60146374, dtype=float32), array(0.59334546, dtype=float32), array(0.60221374, dtype=float32), array(0.6087517, dtype=float32), array(0.6115433, dtype=float32), array(0.60545033, dtype=float32), array(0.5935673, dtype=float32), array(0.60889006, dtype=float32), array(0.62812203, dtype=float32), array(0.62299955, dtype=float32), array(0.6248926, dtype=float32), array(0.6433223, dtype=float32), array(0.6063329, dtype=float32), array(0.59001267, dtype=float32), array(0.60276085, dtype=float32), array(0.6553628, dtype=float32), array(0.6170812, dtype=float32), array(0.61995363, dtype=float32), array(0.6041558, dtype=float32), array(0.6299851, dtype=float32), array(0.6307257, dtype=float32), array(0.62490165, dtype=float32), array(0.5900656, dtype=float32), array(0.60565114, dtype=float32), array(0.5890655, dtype=float32), array(0.6170649, dtype=float32), array(0.6118749, dtype=float32), array(0.6528925, dtype=float32), array(0.6185648, dtype=float32), array(0.61515725, dtype=float32), array(0.60071063, dtype=float32), array(0.6184396, dtype=float32), array(0.60727364, dtype=float32), array(0.6136534, dtype=float32), array(0.61883175, dtype=float32), array(0.5930229, dtype=float32), array(0.6063657, dtype=float32), array(0.5933176, dtype=float32), array(0.603069, dtype=float32), array(0.60194564, dtype=float32), array(0.6133588, dtype=float32), array(0.5931292, dtype=float32), array(0.60575604, dtype=float32), array(0.610313, dtype=float32), array(0.60643446, dtype=float32), array(0.6018652, dtype=float32), array(0.6287397, dtype=float32), array(0.6192303, dtype=float32), array(0.5943342, dtype=float32), array(0.60332084, dtype=float32), array(0.6359471, dtype=float32), array(0.61752665, dtype=float32), array(0.60533184, dtype=float32), array(0.59550047, dtype=float32), array(0.6154523, dtype=float32), array(0.6309433, dtype=float32), array(0.5913306, dtype=float32), array(0.61162984, dtype=float32), array(0.60455954, dtype=float32), array(0.6239544, dtype=float32), array(0.6039785, dtype=float32), array(0.61035, dtype=float32), array(0.6446859, dtype=float32), array(0.5969929, dtype=float32), array(0.590289, dtype=float32), array(0.59978557, dtype=float32), array(0.5938648, dtype=float32), array(0.5994009, dtype=float32), array(0.59412146, dtype=float32), array(0.62364465, dtype=float32), array(0.6008081, dtype=float32), array(0.6162293, dtype=float32), array(0.59228945, dtype=float32), array(0.6048202, dtype=float32), array(0.6033242, dtype=float32), array(0.60103637, dtype=float32), array(0.6035858, dtype=float32), array(0.610016, dtype=float32), array(0.6003025, dtype=float32), array(0.5895466, dtype=float32), array(0.60668945, dtype=float32), array(0.59312093, dtype=float32), array(0.63842505, dtype=float32), array(0.59028447, dtype=float32), array(0.60296786, dtype=float32), array(0.612422, dtype=float32), array(0.60413694, dtype=float32), array(0.6176127, dtype=float32), array(0.6012522, dtype=float32), array(0.6103325, dtype=float32), array(0.59857917, dtype=float32), array(0.62898666, dtype=float32), array(0.61123955, dtype=float32), array(0.613857, dtype=float32), array(0.6166095, dtype=float32), array(0.58421725, dtype=float32), array(0.60798967, dtype=float32), array(0.6293739, dtype=float32), array(0.5968955, dtype=float32), array(0.623268, dtype=float32), array(0.6117355, dtype=float32), array(0.6237049, dtype=float32), array(0.58952105, dtype=float32), array(0.6325488, dtype=float32), array(0.6009131, dtype=float32), array(0.62182415, dtype=float32), array(0.60648835, dtype=float32), array(0.59728837, dtype=float32), array(0.5960783, dtype=float32), array(0.5807061, dtype=float32), array(0.61314225, dtype=float32), array(0.60341656, dtype=float32), array(0.59718513, dtype=float32), array(0.61966264, dtype=float32), array(0.61831737, dtype=float32), array(0.5990338, dtype=float32), array(0.6104058, dtype=float32), array(0.587003, dtype=float32), array(0.614572, dtype=float32), array(0.59320253, dtype=float32), array(0.6129023, dtype=float32), array(0.6124929, dtype=float32), array(0.60527647, dtype=float32), array(0.5972256, dtype=float32), array(0.61209345, dtype=float32), array(0.5956367, dtype=float32), array(0.58482826, dtype=float32), array(0.61168516, dtype=float32), array(0.61170626, dtype=float32), array(0.63466984, dtype=float32), array(0.6275292, dtype=float32), array(0.5928838, dtype=float32), array(0.6265689, dtype=float32), array(0.6487743, dtype=float32), array(0.61530215, dtype=float32), array(0.60182345, dtype=float32), array(0.6079068, dtype=float32), array(0.60575664, dtype=float32), array(0.6160761, dtype=float32), array(0.5984404, dtype=float32), array(0.60952944, dtype=float32), array(0.64787567, dtype=float32), array(0.60187453, dtype=float32), array(0.61685383, dtype=float32), array(0.603583, dtype=float32), array(0.5959784, dtype=float32), array(0.6201809, dtype=float32), array(0.5948709, dtype=float32), array(0.6272351, dtype=float32), array(0.6043591, dtype=float32), array(0.6201818, dtype=float32), array(0.6084041, dtype=float32), array(0.6021837, dtype=float32), array(0.5951346, dtype=float32), array(0.63200945, dtype=float32), array(0.63047457, dtype=float32), array(0.6074456, dtype=float32), array(0.6044522, dtype=float32), array(0.60909986, dtype=float32), array(0.60612965, dtype=float32), array(0.59273875, dtype=float32), array(0.6038991, dtype=float32), array(0.60489225, dtype=float32), array(0.6199914, dtype=float32), array(0.6000153, dtype=float32), array(0.5837728, dtype=float32), array(0.615108, dtype=float32), array(0.5959988, dtype=float32), array(0.62020254, dtype=float32), array(0.6261269, dtype=float32), array(0.59883595, dtype=float32), array(0.5989367, dtype=float32), array(0.61005074, dtype=float32), array(0.60158885, dtype=float32), array(0.6001872, dtype=float32), array(0.612492, dtype=float32), array(0.66180795, dtype=float32), array(0.6094999, dtype=float32), array(0.6237744, dtype=float32), array(0.5887911, dtype=float32), array(0.6077008, dtype=float32), array(0.60054624, dtype=float32), array(0.60373163, dtype=float32), array(0.60963833, dtype=float32), array(0.6175971, dtype=float32), array(0.6255932, dtype=float32), array(0.6026129, dtype=float32), array(0.6155357, dtype=float32)], val_loss=[array(2.3012905, dtype=float32), array(2.207999, dtype=float32), array(2.295246, dtype=float32), array(2.4208894, dtype=float32), array(2.4548488, dtype=float32), array(2.4362292, dtype=float32), array(2.3674223, dtype=float32), array(2.2644963, dtype=float32), array(2.1254566, dtype=float32), array(2.079347, dtype=float32), array(1.9689758, dtype=float32), array(1.8921456, dtype=float32), array(1.8329903, dtype=float32), array(1.7767141, dtype=float32), array(1.7220464, dtype=float32), array(1.6478434, dtype=float32), array(1.6103556, dtype=float32), array(1.5877705, dtype=float32), array(1.5476754, dtype=float32), array(1.4851054, dtype=float32), array(1.4830534, dtype=float32), array(1.4462124, dtype=float32), array(1.4186975, dtype=float32), array(1.3856006, dtype=float32), array(1.3622915, dtype=float32), array(1.3273057, dtype=float32), array(1.3115531, dtype=float32), array(1.313739, dtype=float32), array(1.2884148, dtype=float32), array(1.2656839, dtype=float32), array(1.24932, dtype=float32), array(1.2337008, dtype=float32), array(1.2131948, dtype=float32), array(1.216222, dtype=float32), array(1.1964238, dtype=float32), array(1.1689106, dtype=float32), array(1.1608707, dtype=float32), array(1.1523424, dtype=float32), array(1.1530792, dtype=float32), array(1.1197851, dtype=float32), array(1.1203697, dtype=float32), array(1.1026206, dtype=float32), array(1.0938243, dtype=float32), array(1.0803541, dtype=float32), array(1.0791116, dtype=float32), array(1.0798666, dtype=float32), array(1.0661137, dtype=float32), array(1.0513897, dtype=float32), array(1.0324689, dtype=float32), array(1.0389476, dtype=float32), array(1.0259848, dtype=float32), array(1.020662, dtype=float32), array(1.023424, dtype=float32), array(1.0155838, dtype=float32), array(0.9977563, dtype=float32), array(0.9964607, dtype=float32), array(1.0000694, dtype=float32), array(0.99065965, dtype=float32), array(0.9746558, dtype=float32), array(0.96522605, dtype=float32), array(0.97585773, dtype=float32), array(0.9547543, dtype=float32), array(0.9505675, dtype=float32), array(0.9478568, dtype=float32), array(0.95351195, dtype=float32), array(0.95277107, dtype=float32), array(0.93801594, dtype=float32), array(0.9390397, dtype=float32), array(0.92139006, dtype=float32), array(0.92489475, dtype=float32), array(0.9342872, dtype=float32), array(0.93168056, dtype=float32), array(0.9186864, dtype=float32), array(0.92442596, dtype=float32), array(0.8941395, dtype=float32), array(0.8987344, dtype=float32), array(0.8854838, dtype=float32), array(0.8796424, dtype=float32), array(0.89301515, dtype=float32), array(0.8883878, dtype=float32), array(0.8972891, dtype=float32), array(0.88531977, dtype=float32), array(0.8748337, dtype=float32), array(0.8798184, dtype=float32), array(0.8708616, dtype=float32), array(0.8781867, dtype=float32), array(0.8760346, dtype=float32), array(0.8628008, dtype=float32), array(0.855483, dtype=float32), array(0.8666005, dtype=float32), array(0.85788774, dtype=float32), array(0.8685031, dtype=float32), array(0.8500972, dtype=float32), array(0.84667987, dtype=float32), array(0.8614154, dtype=float32), array(0.85766363, dtype=float32), array(0.83514875, dtype=float32), array(0.8251884, dtype=float32), array(0.83291173, dtype=float32), array(0.83380127, dtype=float32), array(0.82476234, dtype=float32), array(0.8258353, dtype=float32), array(0.82896006, dtype=float32), array(0.81970525, dtype=float32), array(0.8057414, dtype=float32), array(0.81676996, dtype=float32), array(0.8139085, dtype=float32), array(0.82083666, dtype=float32), array(0.8137334, dtype=float32), array(0.8209134, dtype=float32), array(0.8146163, dtype=float32), array(0.81211066, dtype=float32), array(0.80865645, dtype=float32), array(0.8162096, dtype=float32), array(0.80696666, dtype=float32), array(0.8029061, dtype=float32), array(0.8049371, dtype=float32), array(0.8077877, dtype=float32), array(0.7914598, dtype=float32), array(0.7858161, dtype=float32), array(0.790212, dtype=float32), array(0.78227353, dtype=float32), array(0.8074659, dtype=float32), array(0.7927104, dtype=float32), array(0.77300036, dtype=float32), array(0.7900886, dtype=float32), array(0.78064156, dtype=float32), array(0.7654328, dtype=float32), array(0.76633865, dtype=float32), array(0.7709512, dtype=float32), array(0.7759102, dtype=float32), array(0.7799976, dtype=float32), array(0.78493327, dtype=float32), array(0.76595473, dtype=float32), array(0.7775908, dtype=float32), array(0.78152156, dtype=float32), array(0.76413614, dtype=float32), array(0.7690443, dtype=float32), array(0.7589562, dtype=float32), array(0.75740206, dtype=float32), array(0.7544974, dtype=float32), array(0.7814587, dtype=float32), array(0.7558663, dtype=float32), array(0.76058704, dtype=float32), array(0.7653692, dtype=float32), array(0.75652266, dtype=float32), array(0.7610875, dtype=float32), array(0.7631343, dtype=float32), array(0.7448263, dtype=float32), array(0.73840165, dtype=float32), array(0.7594189, dtype=float32), array(0.7434045, dtype=float32), array(0.7574825, dtype=float32), array(0.75025886, dtype=float32), array(0.737429, dtype=float32), array(0.73896676, dtype=float32), array(0.7353172, dtype=float32), array(0.74310577, dtype=float32), array(0.722138, dtype=float32), array(0.72944254, dtype=float32), array(0.7375849, dtype=float32), array(0.7531557, dtype=float32), array(0.7497092, dtype=float32), array(0.73777115, dtype=float32), array(0.7287427, dtype=float32), array(0.71918654, dtype=float32), array(0.7272002, dtype=float32), array(0.72646165, dtype=float32), array(0.71981984, dtype=float32), array(0.7242898, dtype=float32), array(0.727746, dtype=float32), array(0.72313756, dtype=float32), array(0.7210067, dtype=float32), array(0.7260922, dtype=float32), array(0.71259594, dtype=float32), array(0.7082284, dtype=float32), array(0.7122731, dtype=float32), array(0.70453644, dtype=float32), array(0.7057695, dtype=float32), array(0.7142609, dtype=float32), array(0.7059277, dtype=float32), array(0.70858496, dtype=float32), array(0.7046813, dtype=float32), array(0.69709575, dtype=float32), array(0.709904, dtype=float32), array(0.72454286, dtype=float32), array(0.69426644, dtype=float32), array(0.73343575, dtype=float32), array(0.69519806, dtype=float32), array(0.7014111, dtype=float32), array(0.71799195, dtype=float32), array(0.7170288, dtype=float32), array(0.6896752, dtype=float32), array(0.6947249, dtype=float32), array(0.6883723, dtype=float32), array(0.69008255, dtype=float32), array(0.70004785, dtype=float32), array(0.691351, dtype=float32), array(0.69739115, dtype=float32), array(0.696205, dtype=float32), array(0.6842387, dtype=float32), array(0.69221115, dtype=float32), array(0.6786433, dtype=float32), array(0.6953029, dtype=float32), array(0.7027184, dtype=float32), array(0.6752558, dtype=float32), array(0.66464925, dtype=float32), array(0.69002575, dtype=float32), array(0.67175984, dtype=float32), array(0.6964421, dtype=float32), array(0.675189, dtype=float32), array(0.68161035, dtype=float32), array(0.694444, dtype=float32), array(0.6969258, dtype=float32), array(0.67337626, dtype=float32), array(0.67495054, dtype=float32), array(0.6805564, dtype=float32), array(0.6803895, dtype=float32), array(0.67208016, dtype=float32), array(0.6844181, dtype=float32), array(0.6859287, dtype=float32), array(0.6887988, dtype=float32), array(0.67803943, dtype=float32), array(0.6681689, dtype=float32), array(0.669691, dtype=float32), array(0.6660316, dtype=float32), array(0.66484034, dtype=float32), array(0.6840244, dtype=float32), array(0.6687206, dtype=float32), array(0.6666876, dtype=float32), array(0.66662943, dtype=float32), array(0.6725699, dtype=float32), array(0.6641093, dtype=float32), array(0.66439867, dtype=float32), array(0.6797007, dtype=float32), array(0.68147653, dtype=float32), array(0.6653527, dtype=float32), array(0.6772349, dtype=float32), array(0.67836946, dtype=float32), array(0.6564194, dtype=float32), array(0.67265004, dtype=float32), array(0.6676948, dtype=float32), array(0.66401577, dtype=float32), array(0.66794884, dtype=float32), array(0.65814316, dtype=float32), array(0.63659227, dtype=float32), array(0.6473772, dtype=float32), array(0.6521792, dtype=float32), array(0.658353, dtype=float32), array(0.7028343, dtype=float32), array(0.6584294, dtype=float32), array(0.6634658, dtype=float32), array(0.6515562, dtype=float32), array(0.648702, dtype=float32), array(0.66785014, dtype=float32), array(0.6606377, dtype=float32), array(0.6461711, dtype=float32), array(0.6478837, dtype=float32), array(0.6627697, dtype=float32), array(0.6450254, dtype=float32), array(0.6670141, dtype=float32), array(0.6518153, dtype=float32), array(0.6455911, dtype=float32), array(0.6429588, dtype=float32), array(0.67396724, dtype=float32), array(0.66190654, dtype=float32), array(0.66265965, dtype=float32), array(0.65870637, dtype=float32), array(0.6518204, dtype=float32), array(0.65577495, dtype=float32), array(0.6385166, dtype=float32), array(0.6506887, dtype=float32), array(0.64993066, dtype=float32), array(0.644983, dtype=float32), array(0.6488552, dtype=float32), array(0.6574687, dtype=float32), array(0.64808923, dtype=float32), array(0.6621181, dtype=float32), array(0.65462977, dtype=float32), array(0.658126, dtype=float32), array(0.6627122, dtype=float32), array(0.6597944, dtype=float32), array(0.65669674, dtype=float32), array(0.6555234, dtype=float32), array(0.6431351, dtype=float32), array(0.6571965, dtype=float32), array(0.64539397, dtype=float32), array(0.63963807, dtype=float32), array(0.64422905, dtype=float32), array(0.6620785, dtype=float32), array(0.6446989, dtype=float32), array(0.6304606, dtype=float32), array(0.64825785, dtype=float32), array(0.64851177, dtype=float32), array(0.6499491, dtype=float32), array(0.64311874, dtype=float32), array(0.668512, dtype=float32), array(0.6483341, dtype=float32), array(0.6574935, dtype=float32), array(0.63206863, dtype=float32), array(0.66179574, dtype=float32), array(0.7112638, dtype=float32), array(0.7112638, dtype=float32), array(0.6466, dtype=float32), array(0.64567256, dtype=float32), array(0.64096034, dtype=float32), array(0.662364, dtype=float32), array(0.6729084, dtype=float32), array(0.6599647, dtype=float32), array(0.65754855, dtype=float32), array(0.64585674, dtype=float32), array(0.64514315, dtype=float32), array(0.6310016, dtype=float32), array(0.654709, dtype=float32), array(0.64235926, dtype=float32), array(0.64845264, dtype=float32), array(0.6345994, dtype=float32), array(0.64521366, dtype=float32), array(0.6510661, dtype=float32), array(0.62941456, dtype=float32), array(0.643588, dtype=float32), array(0.6423919, dtype=float32), array(0.65860903, dtype=float32), array(0.64251316, dtype=float32), array(0.6391338, dtype=float32), array(0.63276875, dtype=float32), array(0.6397641, dtype=float32), array(0.6426152, dtype=float32), array(0.6274823, dtype=float32), array(0.65403765, dtype=float32), array(0.64716405, dtype=float32), array(0.63698334, dtype=float32), array(0.6291088, dtype=float32), array(0.63872695, dtype=float32), array(0.64035666, dtype=float32), array(0.6454397, dtype=float32), array(0.63069254, dtype=float32), array(0.6531141, dtype=float32), array(0.63543475, dtype=float32), array(0.62408864, dtype=float32), array(0.6298708, dtype=float32), array(0.63917685, dtype=float32), array(0.6645801, dtype=float32), array(0.6339401, dtype=float32), array(0.64060205, dtype=float32), array(0.6532263, dtype=float32), array(0.6306046, dtype=float32), array(0.6415173, dtype=float32), array(0.62166196, dtype=float32), array(0.65352523, dtype=float32), array(0.63799167, dtype=float32), array(0.6409538, dtype=float32), array(0.62557477, dtype=float32), array(0.6322192, dtype=float32), array(0.6432188, dtype=float32), array(0.6300145, dtype=float32), array(0.6351664, dtype=float32), array(0.6595813, dtype=float32), array(0.64305353, dtype=float32), array(0.6386092, dtype=float32), array(0.63302106, dtype=float32), array(0.653521, dtype=float32), array(0.6459386, dtype=float32), array(0.6559071, dtype=float32), array(0.6360498, dtype=float32), array(0.6542795, dtype=float32), array(0.6544355, dtype=float32), array(0.6190453, dtype=float32), array(0.63381386, dtype=float32), array(0.6257873, dtype=float32), array(0.6497433, dtype=float32), array(0.6261373, dtype=float32), array(0.62743604, dtype=float32), array(0.6154784, dtype=float32), array(0.6226596, dtype=float32), array(0.62884027, dtype=float32), array(0.6414028, dtype=float32), array(0.63105834, dtype=float32), array(0.6236131, dtype=float32), array(0.6560182, dtype=float32), array(0.62067384, dtype=float32), array(0.6365028, dtype=float32), array(0.63793576, dtype=float32), array(0.6238147, dtype=float32), array(0.6397281, dtype=float32), array(0.6240586, dtype=float32), array(0.6468239, dtype=float32), array(0.6672933, dtype=float32), array(0.63017607, dtype=float32), array(0.63476944, dtype=float32), array(0.63741964, dtype=float32), array(0.6285901, dtype=float32), array(0.6320876, dtype=float32), array(0.6521982, dtype=float32), array(0.6383451, dtype=float32), array(0.6545928, dtype=float32), array(0.6194421, dtype=float32), array(0.61737925, dtype=float32), array(0.61822134, dtype=float32), array(0.6378395, dtype=float32), array(0.6437889, dtype=float32), array(0.62570506, dtype=float32), array(0.61461663, dtype=float32), array(0.6385925, dtype=float32), array(0.626269, dtype=float32), array(0.64563054, dtype=float32), array(0.6264018, dtype=float32), array(0.6429164, dtype=float32), array(0.6329626, dtype=float32), array(0.6572846, dtype=float32), array(0.6254324, dtype=float32), array(0.6136662, dtype=float32), array(0.64195, dtype=float32), array(0.61547744, dtype=float32), array(0.6432428, dtype=float32), array(0.6243063, dtype=float32), array(0.64115214, dtype=float32), array(0.64632523, dtype=float32), array(0.64039934, dtype=float32), array(0.6198102, dtype=float32), array(0.63206494, dtype=float32), array(0.6100564, dtype=float32), array(0.62458444, dtype=float32), array(0.6212183, dtype=float32), array(0.6142404, dtype=float32), array(0.6494236, dtype=float32), array(0.65127945, dtype=float32), array(0.6388384, dtype=float32), array(0.61312175, dtype=float32), array(0.61987257, dtype=float32), array(0.63141584, dtype=float32), array(0.6237242, dtype=float32), array(0.6257434, dtype=float32), array(0.6381394, dtype=float32), array(0.6253132, dtype=float32), array(0.6337456, dtype=float32), array(0.6178254, dtype=float32), array(0.62181187, dtype=float32), array(0.6247076, dtype=float32), array(0.6281572, dtype=float32), array(0.62705564, dtype=float32), array(0.63336384, dtype=float32), array(0.6284281, dtype=float32), array(0.63718975, dtype=float32), array(0.6354147, dtype=float32), array(0.61602265, dtype=float32), array(0.64554316, dtype=float32), array(0.6481968, dtype=float32), array(0.6209364, dtype=float32), array(0.6314883, dtype=float32), array(0.6539149, dtype=float32), array(0.6252426, dtype=float32), array(0.62967205, dtype=float32), array(0.6436207, dtype=float32), array(0.63917446, dtype=float32), array(0.654353, dtype=float32), array(0.65698165, dtype=float32), array(0.6264482, dtype=float32), array(0.62282366, dtype=float32), array(0.6231749, dtype=float32), array(0.6308081, dtype=float32), array(0.6198469, dtype=float32), array(0.63445115, dtype=float32), array(0.63109434, dtype=float32), array(0.6257542, dtype=float32), array(0.62239933, dtype=float32), array(0.6173623, dtype=float32), array(0.61175394, dtype=float32), array(0.62977195, dtype=float32), array(0.6137253, dtype=float32), array(0.6302031, dtype=float32), array(0.6376385, dtype=float32), array(0.6213138, dtype=float32), array(0.61879516, dtype=float32), array(0.6244956, dtype=float32), array(0.6386002, dtype=float32), array(0.60771096, dtype=float32), array(0.62278306, dtype=float32), array(0.6389943, dtype=float32), array(0.6273352, dtype=float32), array(0.65268767, dtype=float32), array(0.6349648, dtype=float32), array(0.6337017, dtype=float32), array(0.62738526, dtype=float32), array(0.62619334, dtype=float32), array(0.63445765, dtype=float32), array(0.6060703, dtype=float32), array(0.6217727, dtype=float32), array(0.6308721, dtype=float32), array(0.6299779, dtype=float32), array(0.6191603, dtype=float32), array(0.61960274, dtype=float32), array(0.63583565, dtype=float32), array(0.6378417, dtype=float32), array(0.6496661, dtype=float32), array(0.6587348, dtype=float32), array(0.62295467, dtype=float32), array(0.6357448, dtype=float32), array(0.6282172, dtype=float32), array(0.62162787, dtype=float32), array(0.6309829, dtype=float32), array(0.6194276, dtype=float32), array(0.6314049, dtype=float32), array(0.61680216, dtype=float32), array(0.6164323, dtype=float32), array(0.6259342, dtype=float32), array(0.62349916, dtype=float32), array(0.6357156, dtype=float32), array(0.6181955, dtype=float32), array(0.61352897, dtype=float32), array(0.6570108, dtype=float32), array(0.6265241, dtype=float32), array(0.62927926, dtype=float32), array(0.66172135, dtype=float32), array(0.6224178, dtype=float32), array(0.6160728, dtype=float32), array(0.61789066, dtype=float32), array(0.65749836, dtype=float32), array(0.6311808, dtype=float32), array(0.64107394, dtype=float32), array(0.6446078, dtype=float32), array(0.6242979, dtype=float32), array(0.6311891, dtype=float32), array(0.61537725, dtype=float32), array(0.6179533, dtype=float32), array(0.6242227, dtype=float32), array(0.6175223, dtype=float32), array(0.6176528, dtype=float32), array(0.6086465, dtype=float32), array(0.631013, dtype=float32), array(0.6190192, dtype=float32), array(0.61619973, dtype=float32), array(0.6377082, dtype=float32), array(0.63520616, dtype=float32), array(0.6305685, dtype=float32), array(0.6407714, dtype=float32), array(0.615857, dtype=float32), array(0.6162261, dtype=float32), array(0.6614861, dtype=float32), array(0.63817865, dtype=float32), array(0.6351522, dtype=float32), array(0.61236405, dtype=float32), array(0.6180642, dtype=float32), array(0.63083756, dtype=float32), array(0.63938886, dtype=float32), array(0.6391665, dtype=float32), array(0.60998905, dtype=float32), array(0.61234426, dtype=float32), array(0.6185602, dtype=float32), array(0.6276816, dtype=float32), array(0.6297202, dtype=float32), array(0.6621641, dtype=float32), array(0.6349194, dtype=float32), array(0.6361723, dtype=float32), array(0.6244403, dtype=float32), array(0.6270647, dtype=float32), array(0.6238682, dtype=float32), array(0.63319606, dtype=float32), array(0.64413345, dtype=float32), array(0.6382306, dtype=float32), array(0.65622795, dtype=float32), array(0.6147933, dtype=float32), array(0.6708865, dtype=float32), array(0.63999903, dtype=float32), array(0.627069, dtype=float32), array(0.62359273, dtype=float32), array(0.64194167, dtype=float32), array(0.62825614, dtype=float32), array(0.62772846, dtype=float32), array(0.6135014, dtype=float32), array(0.6300603, dtype=float32), array(0.6323328, dtype=float32), array(0.644208, dtype=float32), array(0.6177113, dtype=float32), array(0.6171841, dtype=float32), array(0.6319034, dtype=float32), array(0.622692, dtype=float32), array(0.6262075, dtype=float32), array(0.6228615, dtype=float32), array(0.6159781, dtype=float32), array(0.6420612, dtype=float32), array(0.6133599, dtype=float32), array(0.6333082, dtype=float32), array(0.61506426, dtype=float32), array(0.6148536, dtype=float32), array(0.6191555, dtype=float32), array(0.6280792, dtype=float32), array(0.6362557, dtype=float32), array(0.6284702, dtype=float32), array(0.6183939, dtype=float32), array(0.64823383, dtype=float32), array(0.6174458, dtype=float32), array(0.61316705, dtype=float32), array(0.6256368, dtype=float32), array(0.62206686, dtype=float32), array(0.61942476, dtype=float32), array(0.6450492, dtype=float32), array(0.64002466, dtype=float32), array(0.6287575, dtype=float32), array(0.6181264, dtype=float32), array(0.62435377, dtype=float32), array(0.63112384, dtype=float32), array(0.6196203, dtype=float32), array(0.624825, dtype=float32), array(0.62425244, dtype=float32), array(0.6270796, dtype=float32), array(0.63618696, dtype=float32), array(0.65415716, dtype=float32), array(0.61876893, dtype=float32), array(0.6183532, dtype=float32), array(0.6401216, dtype=float32), array(0.63327676, dtype=float32), array(0.62976635, dtype=float32), array(0.61570936, dtype=float32), array(0.6371228, dtype=float32), array(0.6305343, dtype=float32), array(0.6384175, dtype=float32), array(0.6260351, dtype=float32), array(0.6209711, dtype=float32), array(0.63212144, dtype=float32), array(0.63742095, dtype=float32), array(0.62712693, dtype=float32), array(0.65316755, dtype=float32), array(0.6140871, dtype=float32), array(0.6090994, dtype=float32), array(0.6243572, dtype=float32), array(0.6366447, dtype=float32), array(0.6418953, dtype=float32), array(0.6390142, dtype=float32), array(0.6136092, dtype=float32), array(0.6224835, dtype=float32), array(0.6496672, dtype=float32), array(0.6262656, dtype=float32), array(0.6293938, dtype=float32), array(0.63464487, dtype=float32), array(0.62655747, dtype=float32), array(0.63504976, dtype=float32), array(0.6183732, dtype=float32), array(0.62105477, dtype=float32), array(0.6248914, dtype=float32), array(0.63783705, dtype=float32), array(0.62814856, dtype=float32), array(0.62141895, dtype=float32), array(0.61086833, dtype=float32), array(0.59839857, dtype=float32), array(0.6122563, dtype=float32), array(0.6347888, dtype=float32), array(0.6403126, dtype=float32), array(0.6119643, dtype=float32), array(0.64403623, dtype=float32), array(0.6386565, dtype=float32), array(0.61564755, dtype=float32), array(0.6229689, dtype=float32), array(0.6491787, dtype=float32), array(0.61910105, dtype=float32), array(0.63028586, dtype=float32), array(0.63203776, dtype=float32), array(0.6228945, dtype=float32), array(0.6427303, dtype=float32), array(0.61900645, dtype=float32), array(0.62820375, dtype=float32), array(0.61556053, dtype=float32), array(0.61789495, dtype=float32), array(0.6224532, dtype=float32), array(0.6190115, dtype=float32), array(0.6286708, dtype=float32), array(0.65636337, dtype=float32), array(0.6362374, dtype=float32), array(0.62593985, dtype=float32), array(0.6269611, dtype=float32), array(0.64174247, dtype=float32), array(0.63141745, dtype=float32), array(0.6218901, dtype=float32), array(0.6240714, dtype=float32), array(0.6373522, dtype=float32), array(0.6333901, dtype=float32), array(0.6209768, dtype=float32), array(0.6127796, dtype=float32), array(0.6192026, dtype=float32), array(0.62933767, dtype=float32), array(0.62799597, dtype=float32), array(0.61653143, dtype=float32), array(0.60481286, dtype=float32), array(0.6103793, dtype=float32), array(0.6184649, dtype=float32), array(0.62479085, dtype=float32), array(0.63008803, dtype=float32), array(0.6302593, dtype=float32), array(0.6360473, dtype=float32), array(0.6212664, dtype=float32), array(0.6315674, dtype=float32), array(0.61997414, dtype=float32), array(0.66574323, dtype=float32), array(0.60473204, dtype=float32), array(0.6078093, dtype=float32), array(0.6336098, dtype=float32), array(0.6043631, dtype=float32), array(0.6245513, dtype=float32), array(0.6161272, dtype=float32), array(0.604484, dtype=float32), array(0.62120426, dtype=float32), array(0.62239575, dtype=float32), array(0.6302013, dtype=float32), array(0.62623066, dtype=float32), array(0.6375952, dtype=float32), array(0.6218014, dtype=float32), array(0.63322735, dtype=float32), array(0.62080216, dtype=float32), array(0.62755775, dtype=float32), array(0.6086426, dtype=float32), array(0.6334027, dtype=float32), array(0.6023453, dtype=float32), array(0.6414772, dtype=float32), array(0.61996484, dtype=float32), array(0.62441826, dtype=float32), array(0.6243633, dtype=float32), array(0.6246116, dtype=float32), array(0.61344004, dtype=float32), array(0.648445, dtype=float32), array(0.61887455, dtype=float32), array(0.6186281, dtype=float32), array(0.6360097, dtype=float32), array(0.6237314, dtype=float32), array(0.6476171, dtype=float32), array(0.639477, dtype=float32), array(0.633009, dtype=float32), array(0.6085119, dtype=float32), array(0.61857796, dtype=float32), array(0.619772, dtype=float32), array(0.62306094, dtype=float32), array(0.63708633, dtype=float32), array(0.61308855, dtype=float32), array(0.63225794, dtype=float32), array(0.6200167, dtype=float32), array(0.6362589, dtype=float32), array(0.6183194, dtype=float32), array(0.621574, dtype=float32), array(0.6315516, dtype=float32), array(0.6211964, dtype=float32), array(0.63284874, dtype=float32), array(0.6448124, dtype=float32), array(0.5969715, dtype=float32), array(0.62063503, dtype=float32), array(0.617705, dtype=float32), array(0.6152871, dtype=float32), array(0.6387346, dtype=float32), array(0.6197758, dtype=float32), array(0.623729, dtype=float32), array(0.6421689, dtype=float32), array(0.6070863, dtype=float32), array(0.61685604, dtype=float32), array(0.65090835, dtype=float32), array(0.64759326, dtype=float32), array(0.6249626, dtype=float32), array(0.64100647, dtype=float32), array(0.6213514, dtype=float32), array(0.64263976, dtype=float32), array(0.6153359, dtype=float32), array(0.62538177, dtype=float32), array(0.6214301, dtype=float32), array(0.60259295, dtype=float32), array(0.6250496, dtype=float32), array(0.6372745, dtype=float32), array(0.62695396, dtype=float32), array(0.62306905, dtype=float32), array(0.62762654, dtype=float32), array(0.6405792, dtype=float32), array(0.62086797, dtype=float32), array(0.62055147, dtype=float32), array(0.6175462, dtype=float32), array(0.6345019, dtype=float32), array(0.62250113, dtype=float32), array(0.6452602, dtype=float32), array(0.639128, dtype=float32), array(0.6363015, dtype=float32), array(0.6251143, dtype=float32), array(0.6142089, dtype=float32), array(0.61567074, dtype=float32), array(0.61460996, dtype=float32), array(0.6158167, dtype=float32), array(0.6196815, dtype=float32), array(0.6280237, dtype=float32), array(0.6252387, dtype=float32), array(0.6229484, dtype=float32), array(0.61886966, dtype=float32), array(0.6324468, dtype=float32), array(0.63056636, dtype=float32), array(0.6432589, dtype=float32), array(0.6305166, dtype=float32), array(0.6170637, dtype=float32), array(0.61652327, dtype=float32), array(0.6398358, dtype=float32), array(0.61628616, dtype=float32), array(0.6185194, dtype=float32), array(0.6204903, dtype=float32), array(0.60888547, dtype=float32), array(0.62931234, dtype=float32), array(0.6253686, dtype=float32), array(0.61901903, dtype=float32), array(0.6276983, dtype=float32), array(0.61196965, dtype=float32), array(0.6328654, dtype=float32), array(0.63311565, dtype=float32), array(0.6124753, dtype=float32), array(0.6153455, dtype=float32), array(0.627311, dtype=float32), array(0.6493028, dtype=float32), array(0.6332275, dtype=float32), array(0.6192126, dtype=float32), array(0.6171582, dtype=float32), array(0.642858, dtype=float32), array(0.64070886, dtype=float32), array(0.620962, dtype=float32), array(0.63464963, dtype=float32), array(0.62337923, dtype=float32), array(0.61317396, dtype=float32), array(0.6034483, dtype=float32), array(0.6219181, dtype=float32), array(0.63020164, dtype=float32), array(0.6306758, dtype=float32), array(0.61997515, dtype=float32), array(0.6164391, dtype=float32), array(0.6289023, dtype=float32), array(0.66759884, dtype=float32), array(0.61812484, dtype=float32), array(0.65000206, dtype=float32), array(0.6312609, dtype=float32), array(0.6139082, dtype=float32), array(0.6219273, dtype=float32), array(0.6403954, dtype=float32), array(0.6161214, dtype=float32), array(0.6356133, dtype=float32), array(0.61515844, dtype=float32), array(0.61670893, dtype=float32), array(0.6287869, dtype=float32), array(0.6074451, dtype=float32), array(0.6214753, dtype=float32), array(0.6057159, dtype=float32), array(0.6339165, dtype=float32), array(0.6285959, dtype=float32), array(0.63274, dtype=float32), array(0.621275, dtype=float32), array(0.6225649, dtype=float32), array(0.6379225, dtype=float32), array(0.64740086, dtype=float32), array(0.5980294, dtype=float32), array(0.62198853, dtype=float32), array(0.63253033, dtype=float32), array(0.61323464, dtype=float32), array(0.642663, dtype=float32), array(0.629331, dtype=float32), array(0.6158155, dtype=float32), array(0.6127338, dtype=float32), array(0.62577087, dtype=float32), array(0.61911297, dtype=float32), array(0.64149594, dtype=float32), array(0.6357206, dtype=float32), array(0.6292029, dtype=float32), array(0.64682513, dtype=float32), array(0.6412709, dtype=float32), array(0.62577486, dtype=float32), array(0.6325794, dtype=float32), array(0.6243286, dtype=float32), array(0.6231421, dtype=float32), array(0.6190346, dtype=float32), array(0.61900043, dtype=float32), array(0.6113043, dtype=float32), array(0.6103122, dtype=float32), array(0.6002751, dtype=float32), array(0.6328182, dtype=float32), array(0.6064583, dtype=float32), array(0.624081, dtype=float32), array(0.6254157, dtype=float32), array(0.6234937, dtype=float32), array(0.6122571, dtype=float32), array(0.6284627, dtype=float32), array(0.6207795, dtype=float32), array(0.6122706, dtype=float32), array(0.6269196, dtype=float32), array(0.6089094, dtype=float32), array(0.6311028, dtype=float32), array(0.6223888, dtype=float32), array(0.6412811, dtype=float32), array(0.61265874, dtype=float32), array(0.6429534, dtype=float32), array(0.6254606, dtype=float32), array(0.61562204, dtype=float32), array(0.6165569, dtype=float32), array(0.62208235, dtype=float32), array(0.6182857, dtype=float32), array(0.62993515, dtype=float32), array(0.6259037, dtype=float32), array(0.6358479, dtype=float32), array(0.6549746, dtype=float32), array(0.61187434, dtype=float32), array(0.60067976, dtype=float32), array(0.6428492, dtype=float32), array(0.642586, dtype=float32), array(0.6264236, dtype=float32), array(0.61538994, dtype=float32), array(0.6339851, dtype=float32), array(0.61369616, dtype=float32), array(0.6059441, dtype=float32)]\n"
     ]
    },
    {
     "data": {
      "image/png": "[encoded data removed]",
      "text/plain": [
       "<Figure size 600x400 with 1 Axes>"
      ]
     },
     "metadata": {},
     "output_type": "display_data"
    }
   ],
   "source": [
    "trainer.fit(tnc_classifier, train_dataloaders=train_loader, val_dataloaders=valid_loader)"
   ]
  },
  {
   "cell_type": "markdown",
   "metadata": {},
   "source": [
    "## Classification evaluation"
   ]
  },
  {
   "cell_type": "code",
   "execution_count": 40,
   "metadata": {},
   "outputs": [
    {
     "name": "stderr",
     "output_type": "stream",
     "text": [
      "LOCAL_RANK: 0 - CUDA_VISIBLE_DEVICES: [0,1,2,3,4,5,6,7]\n"
     ]
    },
    {
     "name": "stdout",
     "output_type": "stream",
     "text": [
      "Testing DataLoader 0: 100%|██████████| 7/7 [00:00<00:00, 75.33it/s] \n"
     ]
    },
    {
     "data": {
      "text/html": [
       "<pre style=\"white-space:pre;overflow-x:auto;line-height:normal;font-family:Menlo,'DejaVu Sans Mono',consolas,'Courier New',monospace\">┏━━━━━━━━━━━━━━━━━━━━━━━━━━━┳━━━━━━━━━━━━━━━━━━━━━━━━━━━┓\n",
       "┃<span style=\"font-weight: bold\">        Test metric        </span>┃<span style=\"font-weight: bold\">       DataLoader 0        </span>┃\n",
       "┡━━━━━━━━━━━━━━━━━━━━━━━━━━━╇━━━━━━━━━━━━━━━━━━━━━━━━━━━┩\n",
       "│<span style=\"color: #008080; text-decoration-color: #008080\">         test_acc          </span>│<span style=\"color: #800080; text-decoration-color: #800080\">    0.7191358208656311     </span>│\n",
       "│<span style=\"color: #008080; text-decoration-color: #008080\">         test_loss         </span>│<span style=\"color: #800080; text-decoration-color: #800080\">    0.6455227136611938     </span>│\n",
       "└───────────────────────────┴───────────────────────────┘\n",
       "</pre>\n"
      ],
      "text/plain": [
       "┏━━━━━━━━━━━━━━━━━━━━━━━━━━━┳━━━━━━━━━━━━━━━━━━━━━━━━━━━┓\n",
       "┃\u001b[1m \u001b[0m\u001b[1m       Test metric       \u001b[0m\u001b[1m \u001b[0m┃\u001b[1m \u001b[0m\u001b[1m      DataLoader 0       \u001b[0m\u001b[1m \u001b[0m┃\n",
       "┡━━━━━━━━━━━━━━━━━━━━━━━━━━━╇━━━━━━━━━━━━━━━━━━━━━━━━━━━┩\n",
       "│\u001b[36m \u001b[0m\u001b[36m        test_acc         \u001b[0m\u001b[36m \u001b[0m│\u001b[35m \u001b[0m\u001b[35m   0.7191358208656311    \u001b[0m\u001b[35m \u001b[0m│\n",
       "│\u001b[36m \u001b[0m\u001b[36m        test_loss        \u001b[0m\u001b[36m \u001b[0m│\u001b[35m \u001b[0m\u001b[35m   0.6455227136611938    \u001b[0m\u001b[35m \u001b[0m│\n",
       "└───────────────────────────┴───────────────────────────┘\n"
      ]
     },
     "metadata": {},
     "output_type": "display_data"
    },
    {
     "data": {
      "text/plain": [
       "[{'test_acc': 0.7191358208656311, 'test_loss': 0.6455227136611938}]"
      ]
     },
     "execution_count": 40,
     "metadata": {},
     "output_type": "execute_result"
    }
   ],
   "source": [
    "trainer.test(tnc_classifier, test_loader)"
   ]
  },
  {
   "cell_type": "code",
   "execution_count": null,
   "metadata": {},
   "outputs": [],
   "source": [
    "classifier = StateClassifier(input_size=encoding_size, n_classes=n_classes)\n",
    "tnc_classifier = TNC_Classifier(encoder, classifier)"
   ]
  }
 ],
 "metadata": {
  "kernelspec": {
   "display_name": "Python 3",
   "language": "python",
   "name": "python3"
  },
  "language_info": {
   "codemirror_mode": {
    "name": "ipython",
    "version": 3
   },
   "file_extension": ".py",
   "mimetype": "text/x-python",
   "name": "python",
   "nbconvert_exporter": "python",
   "pygments_lexer": "ipython3",
   "version": "3.10.12"
  },
  "orig_nbformat": 4
 },
 "nbformat": 4,
 "nbformat_minor": 2
}
